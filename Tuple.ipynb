{
 "cells": [
  {
   "cell_type": "code",
   "execution_count": 1,
   "id": "afa47283-846a-437f-a554-cebb27fd3860",
   "metadata": {},
   "outputs": [],
   "source": [
    "benimListem=[1,2,\"a\",4.5]"
   ]
  },
  {
   "cell_type": "code",
   "execution_count": 3,
   "id": "b1890918-0da6-4f6f-96aa-23aa26c377d5",
   "metadata": {},
   "outputs": [
    {
     "data": {
      "text/plain": [
       "1"
      ]
     },
     "execution_count": 3,
     "metadata": {},
     "output_type": "execute_result"
    }
   ],
   "source": [
    "benimListem[0]"
   ]
  },
  {
   "cell_type": "code",
   "execution_count": 5,
   "id": "c42b8aaa-8e26-489b-8d12-2117a48c8f35",
   "metadata": {},
   "outputs": [],
   "source": [
    "benimListem[0]=100"
   ]
  },
  {
   "cell_type": "code",
   "execution_count": 7,
   "id": "559d03c5-1dd2-487b-b0e7-35ef918b3943",
   "metadata": {},
   "outputs": [
    {
     "data": {
      "text/plain": [
       "[100, 2, 'a', 4.5]"
      ]
     },
     "execution_count": 7,
     "metadata": {},
     "output_type": "execute_result"
    }
   ],
   "source": [
    "benimListem"
   ]
  },
  {
   "cell_type": "code",
   "execution_count": 9,
   "id": "1076523c-f04e-4bb0-9333-5c023be98900",
   "metadata": {},
   "outputs": [],
   "source": [
    "benimTuple=(1,2,\"a\",4.5)"
   ]
  },
  {
   "cell_type": "code",
   "execution_count": 11,
   "id": "5f3bd148-f57c-49ff-9edb-8f98b6b95a22",
   "metadata": {},
   "outputs": [
    {
     "data": {
      "text/plain": [
       "(1, 2, 'a', 4.5)"
      ]
     },
     "execution_count": 11,
     "metadata": {},
     "output_type": "execute_result"
    }
   ],
   "source": [
    "benimTuple"
   ]
  },
  {
   "cell_type": "code",
   "execution_count": 13,
   "id": "baff501e-571d-4287-b260-30010fbad53f",
   "metadata": {},
   "outputs": [
    {
     "data": {
      "text/plain": [
       "1"
      ]
     },
     "execution_count": 13,
     "metadata": {},
     "output_type": "execute_result"
    }
   ],
   "source": [
    "benimTuple[0]"
   ]
  },
  {
   "cell_type": "code",
   "execution_count": 17,
   "id": "afee8999-5e09-4158-a256-0e97dd59bc9b",
   "metadata": {},
   "outputs": [],
   "source": [
    "#benimTuple[2]=\"b\""
   ]
  },
  {
   "cell_type": "code",
   "execution_count": 19,
   "id": "20fd16f2-8471-40dd-9932-5643274dcf1d",
   "metadata": {},
   "outputs": [
    {
     "data": {
      "text/plain": [
       "1"
      ]
     },
     "execution_count": 19,
     "metadata": {},
     "output_type": "execute_result"
    }
   ],
   "source": [
    "benimTuple.count(\"a\")"
   ]
  },
  {
   "cell_type": "code",
   "execution_count": null,
   "id": "50164886-bc4a-4722-ab2f-166075ff9a34",
   "metadata": {},
   "outputs": [],
   "source": [
    "benimTuple.index(\"a"
   ]
  }
 ],
 "metadata": {
  "kernelspec": {
   "display_name": "Python 3 (ipykernel)",
   "language": "python",
   "name": "python3"
  },
  "language_info": {
   "codemirror_mode": {
    "name": "ipython",
    "version": 3
   },
   "file_extension": ".py",
   "mimetype": "text/x-python",
   "name": "python",
   "nbconvert_exporter": "python",
   "pygments_lexer": "ipython3",
   "version": "3.12.7"
  }
 },
 "nbformat": 4,
 "nbformat_minor": 5
}
