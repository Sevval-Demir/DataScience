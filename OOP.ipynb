{
 "cells": [
  {
   "cell_type": "markdown",
   "id": "0d7b1ef2-3e3c-477c-80cb-80ffa2c0ea0d",
   "metadata": {},
   "source": [
    "## instance & attribute"
   ]
  },
  {
   "cell_type": "code",
   "execution_count": 82,
   "id": "bd98afc2-a79d-479d-b142-e46a66441f76",
   "metadata": {},
   "outputs": [],
   "source": [
    "class SuperKahraman():\n",
    "    ozelGuc=\"Gorunmezlik\"\n",
    "    def __init__(self,isim,yas,meslek):\n",
    "        print(\"init çağrıldı\")\n",
    "        self.isim=isim\n",
    "        self.yas=yas\n",
    "        self.meslek=meslek\n",
    "    def ornekMethod(self):\n",
    "        print(f\"Ben super kahramanim ve mesleğim: {self.meslek}\")"
   ]
  },
  {
   "cell_type": "code",
   "execution_count": 84,
   "id": "693cad2a-ee73-487d-a52d-614ff636a69c",
   "metadata": {},
   "outputs": [
    {
     "name": "stdout",
     "output_type": "stream",
     "text": [
      "init çağrıldı\n"
     ]
    }
   ],
   "source": [
    "superman=SuperKahraman(\"Superman\",30,\"Gazeteci\")"
   ]
  },
  {
   "cell_type": "code",
   "execution_count": 86,
   "id": "0f783eb4-ca7e-4f39-9ee1-22f6d53cc710",
   "metadata": {},
   "outputs": [
    {
     "data": {
      "text/plain": [
       "'Superman'"
      ]
     },
     "execution_count": 86,
     "metadata": {},
     "output_type": "execute_result"
    }
   ],
   "source": [
    "superman.isim"
   ]
  },
  {
   "cell_type": "code",
   "execution_count": 88,
   "id": "ce25707d-9436-4aba-a2e9-7c3d563a09d5",
   "metadata": {},
   "outputs": [],
   "source": [
    "superman.isim=\"Clark Kent\""
   ]
  },
  {
   "cell_type": "code",
   "execution_count": 90,
   "id": "da479d3b-88bf-438e-90a4-325b685ed507",
   "metadata": {},
   "outputs": [
    {
     "data": {
      "text/plain": [
       "'Clark Kent'"
      ]
     },
     "execution_count": 90,
     "metadata": {},
     "output_type": "execute_result"
    }
   ],
   "source": [
    "superman.isim"
   ]
  },
  {
   "cell_type": "code",
   "execution_count": 92,
   "id": "f2fc1257-ce27-4f1e-a8e8-18e03f78eda9",
   "metadata": {},
   "outputs": [
    {
     "data": {
      "text/plain": [
       "'Gorunmezlik'"
      ]
     },
     "execution_count": 92,
     "metadata": {},
     "output_type": "execute_result"
    }
   ],
   "source": [
    "superman.ozelGuc"
   ]
  },
  {
   "cell_type": "code",
   "execution_count": 94,
   "id": "16270bdf-1b6b-4dd9-b81f-0cb54f104238",
   "metadata": {},
   "outputs": [
    {
     "name": "stdout",
     "output_type": "stream",
     "text": [
      "Ben super kahramanim ve mesleğim: Gazeteci\n"
     ]
    }
   ],
   "source": [
    "superman.ornekMethod()"
   ]
  },
  {
   "cell_type": "code",
   "execution_count": 120,
   "id": "589c636e-38c7-4c5e-af88-7af4eabd0543",
   "metadata": {},
   "outputs": [],
   "source": [
    "class Kopek():\n",
    "\n",
    "    yilCarpani=7\n",
    "    def __init__(self,yas=5):\n",
    "        self.yas=yas\n",
    "    def insanYasiniHesapla(self):\n",
    "        return self.yas*Kopek.yilCarpani"
   ]
  },
  {
   "cell_type": "code",
   "execution_count": 122,
   "id": "664b1e00-6153-4c33-92fa-ee99f4253546",
   "metadata": {},
   "outputs": [],
   "source": [
    "benimKopek=Kopek()"
   ]
  },
  {
   "cell_type": "code",
   "execution_count": 124,
   "id": "58f0bdac-0e2c-4412-a1a7-afcbda221fb3",
   "metadata": {},
   "outputs": [
    {
     "data": {
      "text/plain": [
       "5"
      ]
     },
     "execution_count": 124,
     "metadata": {},
     "output_type": "execute_result"
    }
   ],
   "source": [
    "benimKopek.yas"
   ]
  },
  {
   "cell_type": "code",
   "execution_count": 126,
   "id": "0c9c15e3-83bc-4837-b8fe-5c3357832eb5",
   "metadata": {},
   "outputs": [
    {
     "data": {
      "text/plain": [
       "35"
      ]
     },
     "execution_count": 126,
     "metadata": {},
     "output_type": "execute_result"
    }
   ],
   "source": [
    "benimKopek.insanYasiniHesapla()"
   ]
  },
  {
   "cell_type": "markdown",
   "id": "4b6913c3-03a3-4f76-8547-573447ac94fa",
   "metadata": {},
   "source": [
    "# Inheritance"
   ]
  },
  {
   "cell_type": "code",
   "execution_count": 161,
   "id": "81216abb-8b49-4faa-a4cf-1fc9adc9ff0b",
   "metadata": {},
   "outputs": [],
   "source": [
    "class Hayvan():\n",
    "    def __init__(self):\n",
    "        print(\"hayvan sınıfı init çağrıldı\")\n",
    "    def method1(self):\n",
    "        print(\"hayvan sınıfı method1\")\n",
    "    def method2(self):\n",
    "        print(\"hayvan sınıfı method2 çağrıldı\")"
   ]
  },
  {
   "cell_type": "code",
   "execution_count": 163,
   "id": "678843a1-7d42-4fb9-a72d-71fc4ad4643c",
   "metadata": {},
   "outputs": [
    {
     "name": "stdout",
     "output_type": "stream",
     "text": [
      "hayvan sınıfı init çağrıldı\n"
     ]
    }
   ],
   "source": [
    "benimHayvanım=Hayvan()"
   ]
  },
  {
   "cell_type": "code",
   "execution_count": 165,
   "id": "ae4cf998-d8a6-491d-b085-c90851d90533",
   "metadata": {},
   "outputs": [
    {
     "name": "stdout",
     "output_type": "stream",
     "text": [
      "hayvan sınıfı method1\n"
     ]
    }
   ],
   "source": [
    "benimHayvanım.method1()"
   ]
  },
  {
   "cell_type": "code",
   "execution_count": 167,
   "id": "12f44b04-7239-4ce6-b40c-4096af2ef47a",
   "metadata": {},
   "outputs": [
    {
     "name": "stdout",
     "output_type": "stream",
     "text": [
      "hayvan sınıfı method2 çağrıldı\n"
     ]
    }
   ],
   "source": [
    "benimHayvanım.method2()"
   ]
  },
  {
   "cell_type": "code",
   "execution_count": 193,
   "id": "d7ede0f2-e5a8-40a1-9de1-618a6df8a478",
   "metadata": {},
   "outputs": [],
   "source": [
    "class Kedi(Hayvan):\n",
    "    def __init__(self):\n",
    "        Hayvan.__init__(self)\n",
    "        print(\"kedi sınıfı init çağrıldı\")\n",
    "    def miyavla(self):\n",
    "        print(\"miyav miyav\")\n",
    "    #override\n",
    "    def method1(self):\n",
    "        print(\"kedi sınıfındaki method1 çağrıldı\")"
   ]
  },
  {
   "cell_type": "code",
   "execution_count": 195,
   "id": "8ffc3694-ed21-41bf-9c33-2f27d4bfe595",
   "metadata": {},
   "outputs": [
    {
     "name": "stdout",
     "output_type": "stream",
     "text": [
      "hayvan sınıfı init çağrıldı\n",
      "kedi sınıfı init çağrıldı\n"
     ]
    }
   ],
   "source": [
    "benimKedi=Kedi()"
   ]
  },
  {
   "cell_type": "code",
   "execution_count": 197,
   "id": "ad5a3630-f874-488a-8203-415a0f005245",
   "metadata": {},
   "outputs": [
    {
     "name": "stdout",
     "output_type": "stream",
     "text": [
      "kedi sınıfındaki method1 çağrıldı\n"
     ]
    }
   ],
   "source": [
    "benimKedi.method1()"
   ]
  },
  {
   "cell_type": "code",
   "execution_count": 199,
   "id": "6b5ab6a6-4b25-4117-882d-0e6182abe415",
   "metadata": {},
   "outputs": [
    {
     "name": "stdout",
     "output_type": "stream",
     "text": [
      "miyav miyav\n"
     ]
    }
   ],
   "source": [
    "benimKedi.miyavla()"
   ]
  },
  {
   "cell_type": "code",
   "execution_count": 201,
   "id": "f113ef3b-058a-4281-ae7b-fc3423264d8f",
   "metadata": {},
   "outputs": [
    {
     "name": "stdout",
     "output_type": "stream",
     "text": [
      "hayvan sınıfı init çağrıldı\n"
     ]
    }
   ],
   "source": [
    "digerHayvan=Hayvan()"
   ]
  },
  {
   "cell_type": "code",
   "execution_count": 203,
   "id": "5a96665f-60a2-4d46-9e8d-7880643f7b4d",
   "metadata": {},
   "outputs": [
    {
     "name": "stdout",
     "output_type": "stream",
     "text": [
      "hayvan sınıfı method1\n"
     ]
    }
   ],
   "source": [
    "digerHayvan.method1()"
   ]
  },
  {
   "cell_type": "code",
   "execution_count": 205,
   "id": "8dc60968-d3a8-47e8-b052-206a0bf79023",
   "metadata": {},
   "outputs": [
    {
     "name": "stdout",
     "output_type": "stream",
     "text": [
      "hayvan sınıfı init çağrıldı\n",
      "kedi sınıfı init çağrıldı\n"
     ]
    }
   ],
   "source": [
    "digerKedi=Kedi()"
   ]
  },
  {
   "cell_type": "code",
   "execution_count": 207,
   "id": "264c628c-0ec1-472b-9391-83e7a4a35698",
   "metadata": {},
   "outputs": [
    {
     "name": "stdout",
     "output_type": "stream",
     "text": [
      "kedi sınıfındaki method1 çağrıldı\n"
     ]
    }
   ],
   "source": [
    "digerKedi.method1()"
   ]
  },
  {
   "cell_type": "markdown",
   "id": "184e9a7d-6bc2-4b2b-9281-fce6a85580bf",
   "metadata": {},
   "source": [
    "# Polymorphism"
   ]
  },
  {
   "cell_type": "code",
   "execution_count": 215,
   "id": "82baaeba-26dd-4879-be3f-eddfdb1e7cc4",
   "metadata": {},
   "outputs": [],
   "source": [
    "class Elma():\n",
    "    def __init__(self,isim):\n",
    "        self.isim=isim\n",
    "    def bilgiVer(self):\n",
    "        return self.isim + \" 100 cal\""
   ]
  },
  {
   "cell_type": "code",
   "execution_count": 233,
   "id": "7e76bbf3-a265-44d3-98be-2a54b4853ad8",
   "metadata": {},
   "outputs": [],
   "source": [
    "class Muz():\n",
    "    def __init__(self,isim):\n",
    "        self.isim=isim\n",
    "    def bilgiVer(self):\n",
    "        return self.isim + \" 150 cal\""
   ]
  },
  {
   "cell_type": "code",
   "execution_count": 235,
   "id": "e1634c33-4835-4a7d-97f5-402707a36181",
   "metadata": {},
   "outputs": [],
   "source": [
    "elma=Elma(\"elma\")"
   ]
  },
  {
   "cell_type": "code",
   "execution_count": 237,
   "id": "30bf0dfe-3264-4537-adb3-825a9046cfbb",
   "metadata": {},
   "outputs": [
    {
     "data": {
      "text/plain": [
       "'elma 100 cal'"
      ]
     },
     "execution_count": 237,
     "metadata": {},
     "output_type": "execute_result"
    }
   ],
   "source": [
    "elma.bilgiVer()"
   ]
  },
  {
   "cell_type": "code",
   "execution_count": 239,
   "id": "4e4abf32-4144-4479-b3d0-43d7e5b7e5b5",
   "metadata": {},
   "outputs": [],
   "source": [
    "muz=Muz(\"muz\")"
   ]
  },
  {
   "cell_type": "code",
   "execution_count": 241,
   "id": "5605c8ba-c9d4-4a9e-aff9-3a5a99ab01b1",
   "metadata": {},
   "outputs": [
    {
     "data": {
      "text/plain": [
       "'muz 150 cal'"
      ]
     },
     "execution_count": 241,
     "metadata": {},
     "output_type": "execute_result"
    }
   ],
   "source": [
    "muz.bilgiVer()"
   ]
  },
  {
   "cell_type": "code",
   "execution_count": 243,
   "id": "9e7df19d-db3f-40f3-ad09-3539f4b37187",
   "metadata": {},
   "outputs": [],
   "source": [
    "meyveListesi=[elma,muz]"
   ]
  },
  {
   "cell_type": "code",
   "execution_count": 245,
   "id": "94375515-ec16-424a-a2ed-387721e43a61",
   "metadata": {},
   "outputs": [
    {
     "name": "stdout",
     "output_type": "stream",
     "text": [
      "elma 100 cal\n",
      "muz 150 cal\n"
     ]
    }
   ],
   "source": [
    "for meyve in meyveListesi:\n",
    "    print(meyve.bilgiVer())"
   ]
  },
  {
   "cell_type": "code",
   "execution_count": 247,
   "id": "cfb03a12-e650-447c-ad7c-ae420d4d4f16",
   "metadata": {},
   "outputs": [],
   "source": [
    "def bilgiAl(meyve):\n",
    "    print(meyve.bilgiVer())"
   ]
  },
  {
   "cell_type": "code",
   "execution_count": 249,
   "id": "94df6755-56cb-4c6b-8bba-40217fc01bb0",
   "metadata": {},
   "outputs": [
    {
     "name": "stdout",
     "output_type": "stream",
     "text": [
      "muz 150 cal\n"
     ]
    }
   ],
   "source": [
    "bilgiAl(muz)"
   ]
  },
  {
   "cell_type": "code",
   "execution_count": 251,
   "id": "fb0e703f-c1da-4149-8dad-b18897bb5af3",
   "metadata": {},
   "outputs": [
    {
     "name": "stdout",
     "output_type": "stream",
     "text": [
      "elma 100 cal\n"
     ]
    }
   ],
   "source": [
    "bilgiAl(elma)"
   ]
  },
  {
   "cell_type": "code",
   "execution_count": 283,
   "id": "b9843559-0262-4535-834c-7315f3c17242",
   "metadata": {},
   "outputs": [],
   "source": [
    "class Meyve():\n",
    "\n",
    "    def __init__(self,isim,kalori):\n",
    "        self.isim=isim\n",
    "        self.kalori=kalori\n",
    "\n",
    "    def __str__(self):\n",
    "        return f\"{self.isim} şu kadar kaloriye sahiptir: {self.kalori}\"\n",
    "\n",
    "    def __len__(self):\n",
    "        self.kalori"
   ]
  },
  {
   "cell_type": "code",
   "execution_count": 299,
   "id": "4ca88e6e-5374-4053-9126-995007ac2da1",
   "metadata": {},
   "outputs": [],
   "source": [
    "muz=Meyve(\"muz\",200)"
   ]
  },
  {
   "cell_type": "code",
   "execution_count": 301,
   "id": "66529327-3fa2-4490-a500-79d58995e7a9",
   "metadata": {},
   "outputs": [
    {
     "data": {
      "text/plain": [
       "200"
      ]
     },
     "execution_count": 301,
     "metadata": {},
     "output_type": "execute_result"
    }
   ],
   "source": [
    "muz.kalori"
   ]
  },
  {
   "cell_type": "code",
   "execution_count": 303,
   "id": "bf63b56d-e0ae-44ec-bfeb-713e6106609c",
   "metadata": {},
   "outputs": [
    {
     "name": "stdout",
     "output_type": "stream",
     "text": [
      "muz şu kadar kaloriye sahiptir: 200\n"
     ]
    }
   ],
   "source": [
    "print(muz)"
   ]
  },
  {
   "cell_type": "code",
   "execution_count": 305,
   "id": "c6c79458-1a5f-4dcc-a7fc-e154e51e8b7a",
   "metadata": {},
   "outputs": [],
   "source": [
    "benimListem=[1,2,3,\"a\",4.5]"
   ]
  },
  {
   "cell_type": "code",
   "execution_count": 307,
   "id": "bd192dbd-f347-4b32-b7d6-6d4a89b11bd7",
   "metadata": {},
   "outputs": [
    {
     "name": "stdout",
     "output_type": "stream",
     "text": [
      "[1, 2, 3, 'a', 4.5]\n"
     ]
    }
   ],
   "source": [
    "print(benimListem)"
   ]
  },
  {
   "cell_type": "code",
   "execution_count": 309,
   "id": "fe04c48f-2e4e-4b92-b122-9289369c7ce7",
   "metadata": {},
   "outputs": [
    {
     "data": {
      "text/plain": [
       "5"
      ]
     },
     "execution_count": 309,
     "metadata": {},
     "output_type": "execute_result"
    }
   ],
   "source": [
    "len(benimListem)"
   ]
  },
  {
   "cell_type": "code",
   "execution_count": 311,
   "id": "18b68066-e88f-4a64-8896-61b92199a02b",
   "metadata": {},
   "outputs": [
    {
     "ename": "TypeError",
     "evalue": "'NoneType' object cannot be interpreted as an integer",
     "output_type": "error",
     "traceback": [
      "\u001b[1;31m---------------------------------------------------------------------------\u001b[0m",
      "\u001b[1;31mTypeError\u001b[0m                                 Traceback (most recent call last)",
      "Cell \u001b[1;32mIn[311], line 1\u001b[0m\n\u001b[1;32m----> 1\u001b[0m \u001b[38;5;28mlen\u001b[39m(muz)\n",
      "\u001b[1;31mTypeError\u001b[0m: 'NoneType' object cannot be interpreted as an integer"
     ]
    }
   ],
   "source": [
    "len(muz)"
   ]
  },
  {
   "cell_type": "code",
   "execution_count": 313,
   "id": "f87d1220-5a54-4860-90f3-126d57121c35",
   "metadata": {},
   "outputs": [],
   "source": [
    "elma=Meyve(\"elma\",200)"
   ]
  },
  {
   "cell_type": "code",
   "execution_count": 315,
   "id": "3aa7f67e-50d1-4671-b29c-2a01bf91719a",
   "metadata": {},
   "outputs": [
    {
     "ename": "TypeError",
     "evalue": "'NoneType' object cannot be interpreted as an integer",
     "output_type": "error",
     "traceback": [
      "\u001b[1;31m---------------------------------------------------------------------------\u001b[0m",
      "\u001b[1;31mTypeError\u001b[0m                                 Traceback (most recent call last)",
      "Cell \u001b[1;32mIn[315], line 1\u001b[0m\n\u001b[1;32m----> 1\u001b[0m \u001b[38;5;28mlen\u001b[39m(elma)\n",
      "\u001b[1;31mTypeError\u001b[0m: 'NoneType' object cannot be interpreted as an integer"
     ]
    }
   ],
   "source": [
    "len(elma)"
   ]
  },
  {
   "cell_type": "code",
   "execution_count": 317,
   "id": "cfe34a30-0f2c-4607-a144-18e980c6927c",
   "metadata": {},
   "outputs": [
    {
     "name": "stdout",
     "output_type": "stream",
     "text": [
      "elma şu kadar kaloriye sahiptir: 200\n"
     ]
    }
   ],
   "source": [
    "print(elma)"
   ]
  },
  {
   "cell_type": "code",
   "execution_count": 1,
   "id": "5d79f15d-2a24-467c-ba04-912d5b259bda",
   "metadata": {},
   "outputs": [],
   "source": [
    "def toplama(numara1,numara2):\n",
    "    return numara1+numara2"
   ]
  },
  {
   "cell_type": "code",
   "execution_count": 3,
   "id": "04017a18-a757-4dcc-995b-91953c866ad9",
   "metadata": {},
   "outputs": [
    {
     "name": "stdin",
     "output_type": "stream",
     "text": [
      "İlk numarayı giriniz:  10\n",
      "İkinci numarayı giriniz:  20\n"
     ]
    }
   ],
   "source": [
    "x=int(input(\"İlk numarayı giriniz: \"))\n",
    "y=int(input(\"İkinci numarayı giriniz: \"))"
   ]
  },
  {
   "cell_type": "code",
   "execution_count": 5,
   "id": "41b4710b-34b9-4529-894b-bece9725e9d6",
   "metadata": {},
   "outputs": [
    {
     "data": {
      "text/plain": [
       "30"
      ]
     },
     "execution_count": 5,
     "metadata": {},
     "output_type": "execute_result"
    }
   ],
   "source": [
    "toplama(x,y)"
   ]
  },
  {
   "cell_type": "markdown",
   "id": "ed451e1e-d177-4779-a6b2-4816af7f4270",
   "metadata": {},
   "source": [
    "## try & except & else & finally"
   ]
  },
  {
   "cell_type": "code",
   "execution_count": null,
   "id": "eff272b4-8819-4c1d-a713-021c701b7d06",
   "metadata": {},
   "outputs": [
    {
     "name": "stdin",
     "output_type": "stream",
     "text": [
      "Numaranızı giriniz:  şevval\n"
     ]
    },
    {
     "name": "stdout",
     "output_type": "stream",
     "text": [
      "Lütfen gerçekten numara giriniz\n",
      "finally çağrıldı\n"
     ]
    }
   ],
   "source": [
    "while True:\n",
    "    try:\n",
    "        benimInt=int(input(\"Numaranızı giriniz: \"))\n",
    "    except:\n",
    "        print(\"Lütfen gerçekten numara giriniz\")\n",
    "        continue\n",
    "    else:\n",
    "        print(\"Teşekkürler\")\n",
    "        break\n",
    "    finally:\n",
    "        print(\"finally çağrıldı\")"
   ]
  },
  {
   "cell_type": "code",
   "execution_count": null,
   "id": "655eb002-326f-4438-ab43-e9d7f2d63c64",
   "metadata": {},
   "outputs": [],
   "source": []
  }
 ],
 "metadata": {
  "kernelspec": {
   "display_name": "Python 3 (ipykernel)",
   "language": "python",
   "name": "python3"
  },
  "language_info": {
   "codemirror_mode": {
    "name": "ipython",
    "version": 3
   },
   "file_extension": ".py",
   "mimetype": "text/x-python",
   "name": "python",
   "nbconvert_exporter": "python",
   "pygments_lexer": "ipython3",
   "version": "3.12.7"
  }
 },
 "nbformat": 4,
 "nbformat_minor": 5
}
