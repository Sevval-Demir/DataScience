{
 "cells": [
  {
   "cell_type": "markdown",
   "id": "83bd2bd7-1651-4111-94d1-687585e6d62a",
   "metadata": {},
   "source": [
    "## Variables"
   ]
  },
  {
   "cell_type": "code",
   "execution_count": 4,
   "id": "ed13e775-c0ea-426f-83b1-7c4701a304f4",
   "metadata": {},
   "outputs": [
    {
     "name": "stdin",
     "output_type": "stream",
     "text": [
      "Yaşınızı Giriniz 20\n"
     ]
    },
    {
     "data": {
      "text/plain": [
       "'20'"
      ]
     },
     "execution_count": 4,
     "metadata": {},
     "output_type": "execute_result"
    }
   ],
   "source": [
    "input(\"Yaşınızı Giriniz\")"
   ]
  },
  {
   "cell_type": "code",
   "execution_count": 6,
   "id": "4c1a04bc-4c17-4a44-8912-4f3639802c5e",
   "metadata": {},
   "outputs": [
    {
     "name": "stdin",
     "output_type": "stream",
     "text": [
      "Kullanıcı yaşını girin 20\n"
     ]
    }
   ],
   "source": [
    "kullaniciYas=input(\"Kullanıcı yaşını girin: \")"
   ]
  },
  {
   "cell_type": "code",
   "execution_count": 8,
   "id": "c0818d8e-6ea6-41b9-80f0-83f858c957fb",
   "metadata": {},
   "outputs": [
    {
     "data": {
      "text/plain": [
       "'20'"
      ]
     },
     "execution_count": 8,
     "metadata": {},
     "output_type": "execute_result"
    }
   ],
   "source": [
    "kullaniciYas"
   ]
  },
  {
   "cell_type": "code",
   "execution_count": 10,
   "id": "0dbae402-122c-49d8-badf-c0513f9629cb",
   "metadata": {},
   "outputs": [
    {
     "data": {
      "text/plain": [
       "str"
      ]
     },
     "execution_count": 10,
     "metadata": {},
     "output_type": "execute_result"
    }
   ],
   "source": [
    "type(kullaniciYas)"
   ]
  },
  {
   "cell_type": "markdown",
   "id": "5c4c6c3f-3651-4ace-ac0d-2b6cf2fb77ba",
   "metadata": {},
   "source": [
    "## String"
   ]
  },
  {
   "cell_type": "code",
   "execution_count": 13,
   "id": "8d6451b0-679d-4b99-a368-68d3577adfd0",
   "metadata": {},
   "outputs": [],
   "source": [
    "isim=\"Şevval Demir\""
   ]
  },
  {
   "cell_type": "code",
   "execution_count": 15,
   "id": "a8a0b01b-b616-4846-ac69-ea6a67cbd1d8",
   "metadata": {},
   "outputs": [
    {
     "data": {
      "text/plain": [
       "'Şevval Demir'"
      ]
     },
     "execution_count": 15,
     "metadata": {},
     "output_type": "execute_result"
    }
   ],
   "source": [
    "isim"
   ]
  },
  {
   "cell_type": "code",
   "execution_count": 17,
   "id": "f9b7c584-e921-4106-a98d-6c6882c70fa3",
   "metadata": {},
   "outputs": [
    {
     "data": {
      "text/plain": [
       "'r'"
      ]
     },
     "execution_count": 17,
     "metadata": {},
     "output_type": "execute_result"
    }
   ],
   "source": [
    "isim[-1]"
   ]
  },
  {
   "cell_type": "code",
   "execution_count": 19,
   "id": "640838b0-6c99-49b5-acca-8af2ab686f55",
   "metadata": {},
   "outputs": [
    {
     "data": {
      "text/plain": [
       "'Ş'"
      ]
     },
     "execution_count": 19,
     "metadata": {},
     "output_type": "execute_result"
    }
   ],
   "source": [
    "isim[0]"
   ]
  },
  {
   "cell_type": "code",
   "execution_count": 21,
   "id": "74163b27-4987-4345-afbe-cb5f9fcb2e75",
   "metadata": {},
   "outputs": [],
   "source": [
    "%config IPCompleter.greedy = True"
   ]
  },
  {
   "cell_type": "markdown",
   "id": "7dd66a0d-a55f-48d2-a19a-ba936107a0bd",
   "metadata": {},
   "source": [
    "## Slicing"
   ]
  },
  {
   "cell_type": "code",
   "execution_count": 25,
   "id": "509c9699-0735-4d17-af00-064322a8b325",
   "metadata": {},
   "outputs": [
    {
     "data": {
      "text/plain": [
       "'vval Demir'"
      ]
     },
     "execution_count": 25,
     "metadata": {},
     "output_type": "execute_result"
    }
   ],
   "source": [
    "isim[2:]"
   ]
  },
  {
   "cell_type": "code",
   "execution_count": 27,
   "id": "66750fa4-04a1-46f1-b160-31ed69ea7d6c",
   "metadata": {},
   "outputs": [
    {
     "data": {
      "text/plain": [
       "'Şe'"
      ]
     },
     "execution_count": 27,
     "metadata": {},
     "output_type": "execute_result"
    }
   ],
   "source": [
    "isim[:2]"
   ]
  },
  {
   "cell_type": "code",
   "execution_count": 30,
   "id": "63a4d66f-c6ac-44e8-82ef-5962a805715a",
   "metadata": {},
   "outputs": [
    {
     "data": {
      "text/plain": [
       "'Şevval Dem'"
      ]
     },
     "execution_count": 30,
     "metadata": {},
     "output_type": "execute_result"
    }
   ],
   "source": [
    "isim[:-2]"
   ]
  },
  {
   "cell_type": "code",
   "execution_count": 32,
   "id": "2ad4cea8-646f-4a5a-bad7-61dccc6b9c64",
   "metadata": {},
   "outputs": [
    {
     "data": {
      "text/plain": [
       "'vv'"
      ]
     },
     "execution_count": 32,
     "metadata": {},
     "output_type": "execute_result"
    }
   ],
   "source": [
    "isim[2:4]"
   ]
  },
  {
   "cell_type": "code",
   "execution_count": 34,
   "id": "c824f65e-0e83-4374-9587-f5f8225de3ed",
   "metadata": {},
   "outputs": [],
   "source": [
    "#Step Size"
   ]
  },
  {
   "cell_type": "code",
   "execution_count": 36,
   "id": "d7d3c2fc-ab65-46ce-9fcb-4a83986f661d",
   "metadata": {},
   "outputs": [
    {
     "data": {
      "text/plain": [
       "'e'"
      ]
     },
     "execution_count": 36,
     "metadata": {},
     "output_type": "execute_result"
    }
   ],
   "source": [
    "isim[1:2:2]"
   ]
  },
  {
   "cell_type": "code",
   "execution_count": 38,
   "id": "e334475a-21fd-4ef9-9f2c-e23eb0f064a1",
   "metadata": {},
   "outputs": [
    {
     "data": {
      "text/plain": [
       "'Şevval Demir'"
      ]
     },
     "execution_count": 38,
     "metadata": {},
     "output_type": "execute_result"
    }
   ],
   "source": [
    "isim[::]"
   ]
  },
  {
   "cell_type": "code",
   "execution_count": 40,
   "id": "e60740a6-1d28-4997-b73e-886214f78b11",
   "metadata": {},
   "outputs": [
    {
     "data": {
      "text/plain": [
       "'rimeD lavveŞ'"
      ]
     },
     "execution_count": 40,
     "metadata": {},
     "output_type": "execute_result"
    }
   ],
   "source": [
    "isim[::-1]"
   ]
  },
  {
   "cell_type": "markdown",
   "id": "9cab853a-1bed-4d69-8469-d8ce5d209b28",
   "metadata": {},
   "source": [
    "## String Metotlar"
   ]
  },
  {
   "cell_type": "code",
   "execution_count": 43,
   "id": "77cd43af-8ac8-4080-9f8d-af07b173dc06",
   "metadata": {},
   "outputs": [],
   "source": [
    "benimIsmim=\"atıl\""
   ]
  },
  {
   "cell_type": "code",
   "execution_count": 45,
   "id": "44c80a4b-b51c-499e-af19-38d573c41f8f",
   "metadata": {},
   "outputs": [
    {
     "data": {
      "text/plain": [
       "'Atıl'"
      ]
     },
     "execution_count": 45,
     "metadata": {},
     "output_type": "execute_result"
    }
   ],
   "source": [
    "benimIsmim.capitalize()"
   ]
  },
  {
   "cell_type": "code",
   "execution_count": 47,
   "id": "0a5f30b0-9ff6-429f-a083-d07acb93bd6e",
   "metadata": {},
   "outputs": [],
   "source": [
    "tamIsim=\"Atıl Samancıoğlu\""
   ]
  },
  {
   "cell_type": "code",
   "execution_count": 49,
   "id": "281ab3dd-a54b-4fb7-9bb8-278520b571f0",
   "metadata": {},
   "outputs": [
    {
     "data": {
      "text/plain": [
       "['Atıl', 'Samancıoğlu']"
      ]
     },
     "execution_count": 49,
     "metadata": {},
     "output_type": "execute_result"
    }
   ],
   "source": [
    "tamIsim.split()"
   ]
  },
  {
   "cell_type": "code",
   "execution_count": null,
   "id": "9390819a-e42f-4d1f-b3c1-64d918d0fc75",
   "metadata": {},
   "outputs": [],
   "source": []
  }
 ],
 "metadata": {
  "kernelspec": {
   "display_name": "Python 3 (ipykernel)",
   "language": "python",
   "name": "python3"
  },
  "language_info": {
   "codemirror_mode": {
    "name": "ipython",
    "version": 3
   },
   "file_extension": ".py",
   "mimetype": "text/x-python",
   "name": "python",
   "nbconvert_exporter": "python",
   "pygments_lexer": "ipython3",
   "version": "3.12.7"
  }
 },
 "nbformat": 4,
 "nbformat_minor": 5
}
