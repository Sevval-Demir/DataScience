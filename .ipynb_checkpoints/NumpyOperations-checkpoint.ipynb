{
 "cells": [
  {
   "cell_type": "code",
   "execution_count": 1,
   "id": "023b41f1-037a-4fe2-b8f3-64d13bdda384",
   "metadata": {},
   "outputs": [],
   "source": [
    "import numpy as np"
   ]
  },
  {
   "cell_type": "code",
   "execution_count": 3,
   "id": "68ed7d36-6321-430e-931a-3efa370d53f2",
   "metadata": {},
   "outputs": [],
   "source": [
    "benimDizim=np.arange(0,15)"
   ]
  },
  {
   "cell_type": "code",
   "execution_count": 5,
   "id": "ce755e08-78f3-41df-9ec9-c379c81aace6",
   "metadata": {},
   "outputs": [
    {
     "data": {
      "text/plain": [
       "array([ 0,  1,  2,  3,  4,  5,  6,  7,  8,  9, 10, 11, 12, 13, 14])"
      ]
     },
     "execution_count": 5,
     "metadata": {},
     "output_type": "execute_result"
    }
   ],
   "source": [
    "benimDizim"
   ]
  },
  {
   "cell_type": "code",
   "execution_count": 7,
   "id": "906a3dff-4d13-487d-8dc7-7505785ec697",
   "metadata": {},
   "outputs": [
    {
     "data": {
      "text/plain": [
       "5"
      ]
     },
     "execution_count": 7,
     "metadata": {},
     "output_type": "execute_result"
    }
   ],
   "source": [
    "benimDizim[5]"
   ]
  },
  {
   "cell_type": "code",
   "execution_count": 11,
   "id": "5a88199b-2568-4e23-9f40-791716b6317d",
   "metadata": {},
   "outputs": [
    {
     "data": {
      "text/plain": [
       "array([3, 4, 5, 6, 7])"
      ]
     },
     "execution_count": 11,
     "metadata": {},
     "output_type": "execute_result"
    }
   ],
   "source": [
    "benimDizim[3:8]"
   ]
  },
  {
   "cell_type": "code",
   "execution_count": 13,
   "id": "995c32e3-d903-40da-a896-dfb53721cefc",
   "metadata": {},
   "outputs": [],
   "source": [
    "benimDizim[3:8]=-5"
   ]
  },
  {
   "cell_type": "code",
   "execution_count": 15,
   "id": "ee09b28b-d884-43bf-821d-4512b2bfc6da",
   "metadata": {},
   "outputs": [
    {
     "data": {
      "text/plain": [
       "array([ 0,  1,  2, -5, -5, -5, -5, -5,  8,  9, 10, 11, 12, 13, 14])"
      ]
     },
     "execution_count": 15,
     "metadata": {},
     "output_type": "execute_result"
    }
   ],
   "source": [
    "benimDizim"
   ]
  },
  {
   "cell_type": "code",
   "execution_count": 17,
   "id": "08c35f79-8492-4274-97b1-2877c6dbff4b",
   "metadata": {},
   "outputs": [],
   "source": [
    "baskaDizi=np.arange(0,24)"
   ]
  },
  {
   "cell_type": "code",
   "execution_count": 19,
   "id": "f055ee52-5462-4e2c-a3d8-c41e704c4ee4",
   "metadata": {},
   "outputs": [
    {
     "data": {
      "text/plain": [
       "array([ 0,  1,  2,  3,  4,  5,  6,  7,  8,  9, 10, 11, 12, 13, 14, 15, 16,\n",
       "       17, 18, 19, 20, 21, 22, 23])"
      ]
     },
     "execution_count": 19,
     "metadata": {},
     "output_type": "execute_result"
    }
   ],
   "source": [
    "baskaDizi"
   ]
  },
  {
   "cell_type": "code",
   "execution_count": 35,
   "id": "1c0bec72-e530-4bae-bfee-5fa6dd448526",
   "metadata": {},
   "outputs": [],
   "source": [
    "silicingDizi=baskaDizi[4:9]"
   ]
  },
  {
   "cell_type": "code",
   "execution_count": 37,
   "id": "0b75b84e-da38-4da4-9d9e-cbf73127e57f",
   "metadata": {},
   "outputs": [
    {
     "data": {
      "text/plain": [
       "array([4, 5, 6, 7, 8])"
      ]
     },
     "execution_count": 37,
     "metadata": {},
     "output_type": "execute_result"
    }
   ],
   "source": [
    "silicingDizi"
   ]
  },
  {
   "cell_type": "code",
   "execution_count": 39,
   "id": "9c0bb7b5-4102-48ac-8ded-5ddf7e052b4c",
   "metadata": {},
   "outputs": [],
   "source": [
    "silicingDizi[:]=700"
   ]
  },
  {
   "cell_type": "code",
   "execution_count": 41,
   "id": "9617290f-fbfa-4808-814a-8d128a1ed786",
   "metadata": {},
   "outputs": [
    {
     "data": {
      "text/plain": [
       "array([700, 700, 700, 700, 700])"
      ]
     },
     "execution_count": 41,
     "metadata": {},
     "output_type": "execute_result"
    }
   ],
   "source": [
    "silicingDizi"
   ]
  },
  {
   "cell_type": "code",
   "execution_count": 45,
   "id": "9c4a6421-f4c6-49c5-a178-e3d8083134eb",
   "metadata": {},
   "outputs": [
    {
     "data": {
      "text/plain": [
       "array([  0,   1,   2,   3, 700, 700, 700, 700, 700,   9,  10,  11,  12,\n",
       "        13,  14,  15,  16,  17,  18,  19,  20,  21,  22,  23])"
      ]
     },
     "execution_count": 45,
     "metadata": {},
     "output_type": "execute_result"
    }
   ],
   "source": [
    "baskaDizi\n",
    "#dizinin içinden bir parça alınır o başka bir diziye eşitlenir,\n",
    "#değişiklikler yapılırsa\n",
    "#ana dizi de değişiklikleri alır"
   ]
  },
  {
   "cell_type": "code",
   "execution_count": 60,
   "id": "74dd2cdb-f54c-4fa5-88fe-77bf839d7ca4",
   "metadata": {},
   "outputs": [],
   "source": [
    "ornekDizi=np.arange(0,24)"
   ]
  },
  {
   "cell_type": "code",
   "execution_count": 62,
   "id": "10873451-1cb2-4480-85eb-180d44259b34",
   "metadata": {},
   "outputs": [
    {
     "data": {
      "text/plain": [
       "array([ 0,  1,  2,  3,  4,  5,  6,  7,  8,  9, 10, 11, 12, 13, 14, 15, 16,\n",
       "       17, 18, 19, 20, 21, 22, 23])"
      ]
     },
     "execution_count": 62,
     "metadata": {},
     "output_type": "execute_result"
    }
   ],
   "source": [
    "ornekDizi"
   ]
  },
  {
   "cell_type": "code",
   "execution_count": 64,
   "id": "848668e4-c8f7-4b39-8812-dc097073e71a",
   "metadata": {},
   "outputs": [],
   "source": [
    "ornekDiziKopyasi=ornekDizi.copy()"
   ]
  },
  {
   "cell_type": "raw",
   "id": "23e2801f-a8e9-4241-bb07-a3aa67284e11",
   "metadata": {},
   "source": [
    "ornekDiziKopyasiSlicing=ornekDiziKopyasi[3:6]"
   ]
  },
  {
   "cell_type": "raw",
   "id": "ff704ffd-80e8-420a-b14e-52a3dc4afac6",
   "metadata": {},
   "source": [
    "ornekDiziKopyasiSlicing[:]=800"
   ]
  },
  {
   "cell_type": "markdown",
   "id": "90ae82ca-1901-43f8-8db0-821445ff79b2",
   "metadata": {},
   "source": [
    "## matrix"
   ]
  },
  {
   "cell_type": "code",
   "execution_count": 67,
   "id": "34cd6f24-e204-4d9d-bc94-3e1d10804112",
   "metadata": {},
   "outputs": [],
   "source": [
    "benimListem=[[10,20,30],[20,30,40],[40,50,60]]"
   ]
  },
  {
   "cell_type": "code",
   "execution_count": 73,
   "id": "ca504e2a-62d2-44e3-8710-c87d7b12c2e8",
   "metadata": {},
   "outputs": [],
   "source": [
    "benimMatrixDizim=np.array(benimListem)"
   ]
  },
  {
   "cell_type": "code",
   "execution_count": 77,
   "id": "d190aca8-6415-433c-9c8e-cd43eb034476",
   "metadata": {},
   "outputs": [
    {
     "data": {
      "text/plain": [
       "array([[10, 20, 30],\n",
       "       [20, 30, 40],\n",
       "       [40, 50, 60]])"
      ]
     },
     "execution_count": 77,
     "metadata": {},
     "output_type": "execute_result"
    }
   ],
   "source": [
    "benimMatrixDizim"
   ]
  },
  {
   "cell_type": "code",
   "execution_count": 79,
   "id": "9b82c287-0c7b-4cb5-8c6d-a8d8f0b9a21a",
   "metadata": {},
   "outputs": [
    {
     "data": {
      "text/plain": [
       "array([10, 20, 30])"
      ]
     },
     "execution_count": 79,
     "metadata": {},
     "output_type": "execute_result"
    }
   ],
   "source": [
    "benimMatrixDizim[0]"
   ]
  },
  {
   "cell_type": "code",
   "execution_count": 81,
   "id": "f448d509-3e6f-4ad9-a0af-bd401f703613",
   "metadata": {},
   "outputs": [
    {
     "data": {
      "text/plain": [
       "40"
      ]
     },
     "execution_count": 81,
     "metadata": {},
     "output_type": "execute_result"
    }
   ],
   "source": [
    "benimMatrixDizim[1][2]"
   ]
  },
  {
   "cell_type": "code",
   "execution_count": 83,
   "id": "48d2b9bb-fd1d-4001-9c53-e87e61e7ccfa",
   "metadata": {},
   "outputs": [
    {
     "data": {
      "text/plain": [
       "40"
      ]
     },
     "execution_count": 83,
     "metadata": {},
     "output_type": "execute_result"
    }
   ],
   "source": [
    "benimMatrixDizim[1,2]"
   ]
  },
  {
   "cell_type": "code",
   "execution_count": 87,
   "id": "e6ad552b-c2c4-49a2-851b-627c7545defa",
   "metadata": {},
   "outputs": [
    {
     "data": {
      "text/plain": [
       "array([30, 40, 60])"
      ]
     },
     "execution_count": 87,
     "metadata": {},
     "output_type": "execute_result"
    }
   ],
   "source": [
    "benimMatrixDizim[0:,2]"
   ]
  },
  {
   "cell_type": "code",
   "execution_count": 89,
   "id": "dcc232d2-eebd-414c-9698-d8ab3df83a7a",
   "metadata": {},
   "outputs": [],
   "source": [
    "yeniListe=[[0,1,2,3,4],[5,6,7,8,9],[10,11,12,13,14],[15,16,17,18,19],[20,21,22,23,24]]"
   ]
  },
  {
   "cell_type": "code",
   "execution_count": 91,
   "id": "046b2f17-5af4-4064-946a-a346daa76573",
   "metadata": {},
   "outputs": [],
   "source": [
    "yeniMatrix=np.array(yeniListe)"
   ]
  },
  {
   "cell_type": "code",
   "execution_count": 93,
   "id": "228dc99a-2f67-4421-9458-a9b4eafc9059",
   "metadata": {},
   "outputs": [
    {
     "data": {
      "text/plain": [
       "array([10, 11, 12, 13, 14])"
      ]
     },
     "execution_count": 93,
     "metadata": {},
     "output_type": "execute_result"
    }
   ],
   "source": [
    "yeniMatrix[2]"
   ]
  },
  {
   "cell_type": "code",
   "execution_count": 95,
   "id": "3a248cf8-b810-41ae-9237-0223624ff311",
   "metadata": {},
   "outputs": [
    {
     "data": {
      "text/plain": [
       "array([[ 0,  1,  2,  3,  4],\n",
       "       [ 5,  6,  7,  8,  9],\n",
       "       [10, 11, 12, 13, 14],\n",
       "       [15, 16, 17, 18, 19],\n",
       "       [20, 21, 22, 23, 24]])"
      ]
     },
     "execution_count": 95,
     "metadata": {},
     "output_type": "execute_result"
    }
   ],
   "source": [
    "yeniMatrix"
   ]
  },
  {
   "cell_type": "code",
   "execution_count": 97,
   "id": "a674849b-0638-4e2b-8f84-30a4232ab354",
   "metadata": {},
   "outputs": [
    {
     "data": {
      "text/plain": [
       "array([[ 0,  1,  2,  3,  4],\n",
       "       [10, 11, 12, 13, 14],\n",
       "       [20, 21, 22, 23, 24]])"
      ]
     },
     "execution_count": 97,
     "metadata": {},
     "output_type": "execute_result"
    }
   ],
   "source": [
    "yeniMatrix[[0,2,4]]"
   ]
  },
  {
   "cell_type": "markdown",
   "id": "49c8de6c-8563-43f6-9de9-32a830bcc9d8",
   "metadata": {},
   "source": [
    "## operations"
   ]
  },
  {
   "cell_type": "code",
   "execution_count": 100,
   "id": "3a97fb7a-2238-4572-8257-f5e6158ad2ff",
   "metadata": {},
   "outputs": [],
   "source": [
    "yeniBirDizi=np.random.randint(1,100,20)"
   ]
  },
  {
   "cell_type": "code",
   "execution_count": 102,
   "id": "51b5d441-5b2a-4abe-bc73-9909ff6685db",
   "metadata": {},
   "outputs": [
    {
     "data": {
      "text/plain": [
       "array([48, 55, 23, 14, 29, 53, 18, 64, 26, 56, 56, 99, 66, 73, 24, 74, 60,\n",
       "       66, 45, 82])"
      ]
     },
     "execution_count": 102,
     "metadata": {},
     "output_type": "execute_result"
    }
   ],
   "source": [
    "yeniBirDizi"
   ]
  },
  {
   "cell_type": "code",
   "execution_count": 104,
   "id": "c7657e34-03d6-4e04-863a-af10ed333b48",
   "metadata": {},
   "outputs": [
    {
     "data": {
      "text/plain": [
       "array([ True,  True, False, False,  True,  True, False,  True,  True,\n",
       "        True,  True,  True,  True,  True, False,  True,  True,  True,\n",
       "        True,  True])"
      ]
     },
     "execution_count": 104,
     "metadata": {},
     "output_type": "execute_result"
    }
   ],
   "source": [
    "yeniBirDizi>24"
   ]
  },
  {
   "cell_type": "code",
   "execution_count": 106,
   "id": "e7447901-fea4-43ca-a1c0-fdcf99babc1e",
   "metadata": {},
   "outputs": [
    {
     "data": {
      "text/plain": [
       "array([48, 55, 23, 14, 29, 53, 18, 64, 26, 56, 56, 99, 66, 73, 24, 74, 60,\n",
       "       66, 45, 82])"
      ]
     },
     "execution_count": 106,
     "metadata": {},
     "output_type": "execute_result"
    }
   ],
   "source": [
    "yeniBirDizi"
   ]
  },
  {
   "cell_type": "code",
   "execution_count": 108,
   "id": "6e6f8368-1095-49a3-9b81-691ec96ef47a",
   "metadata": {},
   "outputs": [],
   "source": [
    "sonucDizisi=yeniBirDizi>20"
   ]
  },
  {
   "cell_type": "code",
   "execution_count": 110,
   "id": "7c0a784a-b500-47ac-a444-100426acd5d9",
   "metadata": {},
   "outputs": [
    {
     "data": {
      "text/plain": [
       "array([ True,  True,  True, False,  True,  True, False,  True,  True,\n",
       "        True,  True,  True,  True,  True,  True,  True,  True,  True,\n",
       "        True,  True])"
      ]
     },
     "execution_count": 110,
     "metadata": {},
     "output_type": "execute_result"
    }
   ],
   "source": [
    "sonucDizisi"
   ]
  },
  {
   "cell_type": "code",
   "execution_count": 112,
   "id": "99450285-debe-427d-8575-5749bedc1901",
   "metadata": {},
   "outputs": [
    {
     "data": {
      "text/plain": [
       "array([48, 55, 23, 14, 29, 53, 18, 64, 26, 56, 56, 99, 66, 73, 24, 74, 60,\n",
       "       66, 45, 82])"
      ]
     },
     "execution_count": 112,
     "metadata": {},
     "output_type": "execute_result"
    }
   ],
   "source": [
    "yeniBirDizi"
   ]
  },
  {
   "cell_type": "code",
   "execution_count": 114,
   "id": "73a1b0ce-f480-4a66-a5a7-d507f65ed373",
   "metadata": {},
   "outputs": [
    {
     "data": {
      "text/plain": [
       "array([48, 55, 23, 29, 53, 64, 26, 56, 56, 99, 66, 73, 24, 74, 60, 66, 45,\n",
       "       82])"
      ]
     },
     "execution_count": 114,
     "metadata": {},
     "output_type": "execute_result"
    }
   ],
   "source": [
    "yeniBirDizi[sonucDizisi]"
   ]
  },
  {
   "cell_type": "code",
   "execution_count": 116,
   "id": "2823c94c-0711-485a-98ee-caa55f795cdb",
   "metadata": {},
   "outputs": [
    {
     "data": {
      "text/plain": [
       "array([48, 55, 23, 14, 29, 53, 18, 64, 26, 56, 56, 99, 66, 73, 24, 74, 60,\n",
       "       66, 45, 82])"
      ]
     },
     "execution_count": 116,
     "metadata": {},
     "output_type": "execute_result"
    }
   ],
   "source": [
    "yeniBirDizi"
   ]
  },
  {
   "cell_type": "code",
   "execution_count": 120,
   "id": "fcbcc367-c1b5-42a7-b41a-5e6b5816820b",
   "metadata": {},
   "outputs": [
    {
     "data": {
      "text/plain": [
       "array([48, 55, 29, 53, 64, 26, 56, 56, 99, 66, 73, 74, 60, 66, 45, 82])"
      ]
     },
     "execution_count": 120,
     "metadata": {},
     "output_type": "execute_result"
    }
   ],
   "source": [
    "yeniBirDizi[yeniBirDizi>25]"
   ]
  },
  {
   "cell_type": "code",
   "execution_count": 122,
   "id": "e486406e-9e95-486b-87ae-d32472ebc3ac",
   "metadata": {},
   "outputs": [],
   "source": [
    "sonDizi=np.arange(0,24)"
   ]
  },
  {
   "cell_type": "code",
   "execution_count": 124,
   "id": "82d41bca-d2cd-4da4-ad2a-657590d8f184",
   "metadata": {},
   "outputs": [
    {
     "data": {
      "text/plain": [
       "array([ 0,  2,  4,  6,  8, 10, 12, 14, 16, 18, 20, 22, 24, 26, 28, 30, 32,\n",
       "       34, 36, 38, 40, 42, 44, 46])"
      ]
     },
     "execution_count": 124,
     "metadata": {},
     "output_type": "execute_result"
    }
   ],
   "source": [
    "sonDizi+sonDizi"
   ]
  },
  {
   "cell_type": "code",
   "execution_count": 126,
   "id": "53a68069-2b68-42ec-89cf-dbab96c9dcb3",
   "metadata": {},
   "outputs": [
    {
     "data": {
      "text/plain": [
       "array([ 0,  1,  2,  3,  4,  5,  6,  7,  8,  9, 10, 11, 12, 13, 14, 15, 16,\n",
       "       17, 18, 19, 20, 21, 22, 23])"
      ]
     },
     "execution_count": 126,
     "metadata": {},
     "output_type": "execute_result"
    }
   ],
   "source": [
    "sonDizi"
   ]
  },
  {
   "cell_type": "code",
   "execution_count": 128,
   "id": "b944744b-1b82-4c3a-943e-83174ede2f54",
   "metadata": {},
   "outputs": [
    {
     "data": {
      "text/plain": [
       "array([  0,   1,   4,   9,  16,  25,  36,  49,  64,  81, 100, 121, 144,\n",
       "       169, 196, 225, 256, 289, 324, 361, 400, 441, 484, 529])"
      ]
     },
     "execution_count": 128,
     "metadata": {},
     "output_type": "execute_result"
    }
   ],
   "source": [
    "sonDizi*sonDizi"
   ]
  },
  {
   "cell_type": "code",
   "execution_count": 130,
   "id": "55a923c4-8bd1-49a1-b1b1-bf80dc994739",
   "metadata": {},
   "outputs": [
    {
     "data": {
      "text/plain": [
       "array([0, 0, 0, 0, 0, 0, 0, 0, 0, 0, 0, 0, 0, 0, 0, 0, 0, 0, 0, 0, 0, 0,\n",
       "       0, 0])"
      ]
     },
     "execution_count": 130,
     "metadata": {},
     "output_type": "execute_result"
    }
   ],
   "source": [
    "sonDizi-sonDizi"
   ]
  },
  {
   "cell_type": "code",
   "execution_count": 132,
   "id": "95003992-7a48-4300-ab89-a222f08c53a7",
   "metadata": {},
   "outputs": [
    {
     "name": "stderr",
     "output_type": "stream",
     "text": [
      "C:\\Users\\sevva\\AppData\\Local\\Temp\\ipykernel_7424\\1954055075.py:1: RuntimeWarning: invalid value encountered in divide\n",
      "  sonDizi/sonDizi\n"
     ]
    },
    {
     "data": {
      "text/plain": [
       "array([nan,  1.,  1.,  1.,  1.,  1.,  1.,  1.,  1.,  1.,  1.,  1.,  1.,\n",
       "        1.,  1.,  1.,  1.,  1.,  1.,  1.,  1.,  1.,  1.,  1.])"
      ]
     },
     "execution_count": 132,
     "metadata": {},
     "output_type": "execute_result"
    }
   ],
   "source": [
    "sonDizi/sonDizi"
   ]
  },
  {
   "cell_type": "code",
   "execution_count": 134,
   "id": "ad1b1939-023c-45fc-89fb-35feaf7ca519",
   "metadata": {},
   "outputs": [
    {
     "data": {
      "text/plain": [
       "array([0.        , 1.        , 1.41421356, 1.73205081, 2.        ,\n",
       "       2.23606798, 2.44948974, 2.64575131, 2.82842712, 3.        ,\n",
       "       3.16227766, 3.31662479, 3.46410162, 3.60555128, 3.74165739,\n",
       "       3.87298335, 4.        , 4.12310563, 4.24264069, 4.35889894,\n",
       "       4.47213595, 4.58257569, 4.69041576, 4.79583152])"
      ]
     },
     "execution_count": 134,
     "metadata": {},
     "output_type": "execute_result"
    }
   ],
   "source": [
    "np.sqrt(sonDizi)"
   ]
  },
  {
   "cell_type": "code",
   "execution_count": 136,
   "id": "71985b1c-222c-4607-affb-4468de1f2404",
   "metadata": {},
   "outputs": [
    {
     "data": {
      "text/plain": [
       "23"
      ]
     },
     "execution_count": 136,
     "metadata": {},
     "output_type": "execute_result"
    }
   ],
   "source": [
    "np.max(sonDizi)"
   ]
  },
  {
   "cell_type": "code",
   "execution_count": 138,
   "id": "25fd5408-100c-4a65-8f05-94e6fdbf0d1b",
   "metadata": {},
   "outputs": [
    {
     "data": {
      "text/plain": [
       "0"
      ]
     },
     "execution_count": 138,
     "metadata": {},
     "output_type": "execute_result"
    }
   ],
   "source": [
    "np.min(sonDizi)"
   ]
  },
  {
   "cell_type": "code",
   "execution_count": null,
   "id": "94491910-70dc-488e-aa8d-6a6ecef5bd21",
   "metadata": {},
   "outputs": [],
   "source": []
  }
 ],
 "metadata": {
  "kernelspec": {
   "display_name": "Python 3 (ipykernel)",
   "language": "python",
   "name": "python3"
  },
  "language_info": {
   "codemirror_mode": {
    "name": "ipython",
    "version": 3
   },
   "file_extension": ".py",
   "mimetype": "text/x-python",
   "name": "python",
   "nbconvert_exporter": "python",
   "pygments_lexer": "ipython3",
   "version": "3.12.7"
  }
 },
 "nbformat": 4,
 "nbformat_minor": 5
}
