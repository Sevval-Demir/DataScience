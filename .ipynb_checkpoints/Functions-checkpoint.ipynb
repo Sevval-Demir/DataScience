{
 "cells": [
  {
   "cell_type": "code",
   "execution_count": 1,
   "id": "a41687f1-37c0-4429-9f92-2b0772af18f4",
   "metadata": {},
   "outputs": [],
   "source": [
    "def firstFunc():\n",
    "    print(\"ilk fonksiyonum\")"
   ]
  },
  {
   "cell_type": "code",
   "execution_count": 3,
   "id": "a9cadf62-edd3-47e6-ba43-4f270c6c672e",
   "metadata": {},
   "outputs": [
    {
     "name": "stdout",
     "output_type": "stream",
     "text": [
      "ilk fonksiyonum\n"
     ]
    }
   ],
   "source": [
    "firstFunc()"
   ]
  },
  {
   "cell_type": "code",
   "execution_count": 5,
   "id": "98888df0-5c37-4b67-9a30-544763fe2485",
   "metadata": {},
   "outputs": [
    {
     "data": {
      "text/plain": [
       "<function __main__.firstFunc()>"
      ]
     },
     "execution_count": 5,
     "metadata": {},
     "output_type": "execute_result"
    }
   ],
   "source": [
    "firstFunc"
   ]
  },
  {
   "cell_type": "markdown",
   "id": "56e68f64-3442-48a2-83ff-8b02eb5f1d38",
   "metadata": {},
   "source": [
    "## input & return"
   ]
  },
  {
   "cell_type": "code",
   "execution_count": 8,
   "id": "51d57857-1d45-45cd-b8ed-a96384754ed8",
   "metadata": {},
   "outputs": [],
   "source": [
    "def merhabaDunya(yazdirilacakIsim):\n",
    "    print(\"merhaba\")\n",
    "    print(\"yazdirilacakIsim\")"
   ]
  },
  {
   "cell_type": "code",
   "execution_count": 10,
   "id": "3b968c5f-15c5-4166-8f8c-91ef1f59873e",
   "metadata": {},
   "outputs": [
    {
     "name": "stdout",
     "output_type": "stream",
     "text": [
      "merhaba\n",
      "yazdirilacakIsim\n"
     ]
    }
   ],
   "source": [
    "merhabaDunya(\"Atıl\")"
   ]
  },
  {
   "cell_type": "code",
   "execution_count": 12,
   "id": "ad204a8c-6182-4ed2-b309-cd858195cae9",
   "metadata": {},
   "outputs": [
    {
     "name": "stdout",
     "output_type": "stream",
     "text": [
      "merhaba\n",
      "yazdirilacakIsim\n"
     ]
    }
   ],
   "source": [
    "merhabaDunya(\"şevval\")"
   ]
  },
  {
   "cell_type": "code",
   "execution_count": 14,
   "id": "f4dacb11-9611-4504-a413-685f29f80ac1",
   "metadata": {},
   "outputs": [],
   "source": [
    "def merhaba(isim=\"şevval\"):\n",
    "    print(\"merhaba\")\n",
    "    print(isim)"
   ]
  },
  {
   "cell_type": "code",
   "execution_count": 16,
   "id": "c32c98fb-dc76-4b8d-9366-c4e4fb7bb14e",
   "metadata": {},
   "outputs": [
    {
     "name": "stdout",
     "output_type": "stream",
     "text": [
      "merhaba\n",
      "şevval\n"
     ]
    }
   ],
   "source": [
    "merhaba()"
   ]
  },
  {
   "cell_type": "code",
   "execution_count": 18,
   "id": "b648826c-d9c4-429e-90f8-ea9ceb185bcd",
   "metadata": {},
   "outputs": [
    {
     "name": "stdout",
     "output_type": "stream",
     "text": [
      "merhaba\n",
      "python\n"
     ]
    }
   ],
   "source": [
    "merhaba(\"python\")"
   ]
  },
  {
   "cell_type": "code",
   "execution_count": 22,
   "id": "cba82dad-0234-40e8-9a77-062f152e2bfe",
   "metadata": {},
   "outputs": [],
   "source": [
    "def toplama(num1,num2):\n",
    "    sonuc=num1+num2\n",
    "    print(sonuc)"
   ]
  },
  {
   "cell_type": "code",
   "execution_count": 24,
   "id": "e66fe036-ce49-48a8-b96a-d42bcf3ec5d7",
   "metadata": {},
   "outputs": [
    {
     "name": "stdout",
     "output_type": "stream",
     "text": [
      "30\n"
     ]
    }
   ],
   "source": [
    "toplama(10,20)"
   ]
  },
  {
   "cell_type": "code",
   "execution_count": 26,
   "id": "bb9edc32-c883-4f03-8790-794861b0ee47",
   "metadata": {},
   "outputs": [],
   "source": [
    "def superToplama(num1,num2,num3):\n",
    "    print(num1+num2+num3)"
   ]
  },
  {
   "cell_type": "code",
   "execution_count": 28,
   "id": "879d5a60-e2c2-4440-ae6b-07e2835db8be",
   "metadata": {},
   "outputs": [
    {
     "name": "stdout",
     "output_type": "stream",
     "text": [
      "60\n"
     ]
    }
   ],
   "source": [
    "superToplama(10,20,30)"
   ]
  },
  {
   "cell_type": "code",
   "execution_count": 30,
   "id": "f89da0cf-1590-4810-adcd-81876df18182",
   "metadata": {},
   "outputs": [
    {
     "name": "stdout",
     "output_type": "stream",
     "text": [
      "30\n"
     ]
    }
   ],
   "source": [
    "yeniDegisken=toplama(10,20)"
   ]
  },
  {
   "cell_type": "code",
   "execution_count": 32,
   "id": "faa8256d-9192-497b-bbcb-fc37a413e280",
   "metadata": {},
   "outputs": [
    {
     "data": {
      "text/plain": [
       "NoneType"
      ]
     },
     "execution_count": 32,
     "metadata": {},
     "output_type": "execute_result"
    }
   ],
   "source": [
    "type(yeniDegisken)"
   ]
  },
  {
   "cell_type": "code",
   "execution_count": 34,
   "id": "6ae069db-382c-43cd-88d8-dc5f7aec4a43",
   "metadata": {},
   "outputs": [],
   "source": [
    "def returnToplama(num1,num2):\n",
    "    return num1+num2"
   ]
  },
  {
   "cell_type": "code",
   "execution_count": 36,
   "id": "b5a06837-96db-40b3-a21c-ccd01518eec0",
   "metadata": {},
   "outputs": [],
   "source": [
    "yeniSonuc=returnToplama(1,2)"
   ]
  },
  {
   "cell_type": "code",
   "execution_count": 38,
   "id": "42cc6127-4bff-4f1b-aae9-3f07b1891fb7",
   "metadata": {},
   "outputs": [
    {
     "data": {
      "text/plain": [
       "3"
      ]
     },
     "execution_count": 38,
     "metadata": {},
     "output_type": "execute_result"
    }
   ],
   "source": [
    "yeniSonuc"
   ]
  },
  {
   "cell_type": "code",
   "execution_count": 40,
   "id": "de61118f-86a2-4a4b-82bc-612ecdbd6b52",
   "metadata": {},
   "outputs": [
    {
     "data": {
      "text/plain": [
       "int"
      ]
     },
     "execution_count": 40,
     "metadata": {},
     "output_type": "execute_result"
    }
   ],
   "source": [
    "type(yeniSonuc)"
   ]
  },
  {
   "cell_type": "markdown",
   "id": "8c07d315-5bb3-48fc-a29e-91e18c3ba91d",
   "metadata": {},
   "source": [
    "## args & kwargs"
   ]
  },
  {
   "cell_type": "code",
   "execution_count": 43,
   "id": "e856592e-5f2e-4b03-bb86-145f4eafd9fb",
   "metadata": {},
   "outputs": [],
   "source": [
    "def yeniToplama(*args):\n",
    "    return sum(args)"
   ]
  },
  {
   "cell_type": "code",
   "execution_count": 45,
   "id": "94952880-e938-4d3e-a219-ff1cab9380d0",
   "metadata": {},
   "outputs": [
    {
     "data": {
      "text/plain": [
       "280"
      ]
     },
     "execution_count": 45,
     "metadata": {},
     "output_type": "execute_result"
    }
   ],
   "source": [
    "yeniToplama(10,20,30,40,50,60,70)"
   ]
  },
  {
   "cell_type": "code",
   "execution_count": 47,
   "id": "1ca214bd-d409-43cf-99f2-4929cef6232e",
   "metadata": {},
   "outputs": [],
   "source": [
    "def benimFonksiyonum(*args):\n",
    "    return args"
   ]
  },
  {
   "cell_type": "code",
   "execution_count": 49,
   "id": "a0f2e14c-bd85-44fb-9378-26c7b7f6b4e9",
   "metadata": {},
   "outputs": [
    {
     "data": {
      "text/plain": [
       "tuple"
      ]
     },
     "execution_count": 49,
     "metadata": {},
     "output_type": "execute_result"
    }
   ],
   "source": [
    "type(benimFonksiyonum(20,30,40))"
   ]
  },
  {
   "cell_type": "code",
   "execution_count": 51,
   "id": "b05081b0-dab4-4655-9eaa-3cb4a5eedc09",
   "metadata": {},
   "outputs": [],
   "source": [
    "def ornekFonksiyon(**kwargs):\n",
    "    print(kwargs)"
   ]
  },
  {
   "cell_type": "code",
   "execution_count": 53,
   "id": "67a4da60-442f-4840-bbf0-6202698edfaa",
   "metadata": {},
   "outputs": [
    {
     "name": "stdout",
     "output_type": "stream",
     "text": [
      "{'muz': 100, 'elma': 200, 'ananas': 300}\n"
     ]
    }
   ],
   "source": [
    "ornekFonksiyon(muz=100,elma=200,ananas=300)"
   ]
  },
  {
   "cell_type": "code",
   "execution_count": 62,
   "id": "25332eef-63a8-4ad5-92eb-d89bf8fa4964",
   "metadata": {},
   "outputs": [],
   "source": [
    "def keyWordControl(**kwargs):\n",
    "    if \"şevval\" in kwargs:\n",
    "        print(\"şevval var\")\n",
    "    else:\n",
    "        print(\"şevval yok\")"
   ]
  },
  {
   "cell_type": "code",
   "execution_count": 64,
   "id": "922337ee-1da7-4aef-a6cd-94889494832b",
   "metadata": {},
   "outputs": [
    {
     "name": "stdout",
     "output_type": "stream",
     "text": [
      "şevval var\n"
     ]
    }
   ],
   "source": [
    "keyWordControl(şevval=70,zeynep=50,mehmet=40)"
   ]
  },
  {
   "cell_type": "code",
   "execution_count": 70,
   "id": "1ac3a35d-a1da-4dc3-a8bc-e28a266b3699",
   "metadata": {},
   "outputs": [],
   "source": [
    "def bolmeIslemi(numara):\n",
    "    return numara/2"
   ]
  },
  {
   "cell_type": "code",
   "execution_count": 66,
   "id": "babd5f00-3f83-4cdb-8e0c-fddb6bcb19de",
   "metadata": {},
   "outputs": [],
   "source": [
    "benimListem=[1,2,3,4,5,6,7,8,9,10]"
   ]
  },
  {
   "cell_type": "code",
   "execution_count": 68,
   "id": "a9fa316f-7fec-4831-b743-37517ce7e3d4",
   "metadata": {},
   "outputs": [],
   "source": [
    "yeniListe=[]"
   ]
  },
  {
   "cell_type": "code",
   "execution_count": 72,
   "id": "324a17e6-2542-45cd-b3fb-93a01c2f6000",
   "metadata": {},
   "outputs": [],
   "source": [
    "for eleman in benimListem:\n",
    "    yeniListe.append(bolmeIslemi(eleman))"
   ]
  },
  {
   "cell_type": "code",
   "execution_count": 74,
   "id": "a7ba0409-7ba6-423d-9c9a-9ce16757290d",
   "metadata": {},
   "outputs": [
    {
     "data": {
      "text/plain": [
       "[0.5, 1.0, 1.5, 2.0, 2.5, 3.0, 3.5, 4.0, 4.5, 5.0]"
      ]
     },
     "execution_count": 74,
     "metadata": {},
     "output_type": "execute_result"
    }
   ],
   "source": [
    "yeniListe"
   ]
  },
  {
   "cell_type": "markdown",
   "id": "76e55a2e-6824-4d60-ae6e-93c424e66dca",
   "metadata": {},
   "source": [
    "## map"
   ]
  },
  {
   "cell_type": "code",
   "execution_count": 79,
   "id": "b1064fc5-3ef3-4f49-a141-ec6b9198377a",
   "metadata": {},
   "outputs": [
    {
     "data": {
      "text/plain": [
       "[0.5, 1.0, 1.5, 2.0, 2.5, 3.0, 3.5, 4.0, 4.5, 5.0]"
      ]
     },
     "execution_count": 79,
     "metadata": {},
     "output_type": "execute_result"
    }
   ],
   "source": [
    "list(map(bolmeIslemi,benimListem))"
   ]
  },
  {
   "cell_type": "code",
   "execution_count": 81,
   "id": "133101fb-49b6-4eac-a78b-6e8e35fab474",
   "metadata": {},
   "outputs": [],
   "source": [
    "def controlFunction(string):\n",
    "    return \"a\" in string"
   ]
  },
  {
   "cell_type": "code",
   "execution_count": 83,
   "id": "d6fa58bd-0b86-484d-8413-1fb6c3bb8a86",
   "metadata": {},
   "outputs": [
    {
     "data": {
      "text/plain": [
       "True"
      ]
     },
     "execution_count": 83,
     "metadata": {},
     "output_type": "execute_result"
    }
   ],
   "source": [
    "\"a\" in \"atıl\""
   ]
  },
  {
   "cell_type": "code",
   "execution_count": 85,
   "id": "bfc40e68-6714-4509-b387-722e9771c3ee",
   "metadata": {},
   "outputs": [
    {
     "data": {
      "text/plain": [
       "False"
      ]
     },
     "execution_count": 85,
     "metadata": {},
     "output_type": "execute_result"
    }
   ],
   "source": [
    "controlFunction(\"zeynep\")"
   ]
  },
  {
   "cell_type": "code",
   "execution_count": 87,
   "id": "1c68dd01-9e4a-4db0-a171-905ec8336b1e",
   "metadata": {},
   "outputs": [],
   "source": [
    "stringListe=[\"atıl\",\"samancıoğlu\",\"zeynep\",\"mehmet\",\"ahmet\",\"levent\"]"
   ]
  },
  {
   "cell_type": "code",
   "execution_count": 91,
   "id": "3a439a73-d2f6-42b0-8613-e446f4948246",
   "metadata": {},
   "outputs": [],
   "source": [
    "sonuc=list(map(controlFunction,stringListe))"
   ]
  },
  {
   "cell_type": "code",
   "execution_count": 93,
   "id": "71e5a46e-5917-451d-90ce-2740603b5875",
   "metadata": {},
   "outputs": [
    {
     "data": {
      "text/plain": [
       "3"
      ]
     },
     "execution_count": 93,
     "metadata": {},
     "output_type": "execute_result"
    }
   ],
   "source": [
    "sonuc.count(False)"
   ]
  },
  {
   "cell_type": "markdown",
   "id": "9aa38e78-282f-4362-ad86-2100032f620e",
   "metadata": {},
   "source": [
    "## filter"
   ]
  },
  {
   "cell_type": "code",
   "execution_count": 96,
   "id": "0efa4c38-b2c6-485d-bef1-4c6f282dcf83",
   "metadata": {},
   "outputs": [
    {
     "data": {
      "text/plain": [
       "['atıl', 'samancıoğlu', 'ahmet']"
      ]
     },
     "execution_count": 96,
     "metadata": {},
     "output_type": "execute_result"
    }
   ],
   "source": [
    "list(filter(controlFunction,stringListe))\n",
    "#true olanları döndürür"
   ]
  },
  {
   "cell_type": "markdown",
   "id": "10fd3fa7-cd65-431e-ae08-830d5554bcc5",
   "metadata": {},
   "source": [
    "## lambda"
   ]
  },
  {
   "cell_type": "code",
   "execution_count": 99,
   "id": "125ba163-7809-42cf-bad8-c8a6ce62b0cd",
   "metadata": {},
   "outputs": [],
   "source": [
    "carpma=lambda numara : numara*3"
   ]
  },
  {
   "cell_type": "code",
   "execution_count": 101,
   "id": "43a97ae7-e85a-4a20-a16f-efd45ac9f742",
   "metadata": {},
   "outputs": [
    {
     "data": {
      "text/plain": [
       "30"
      ]
     },
     "execution_count": 101,
     "metadata": {},
     "output_type": "execute_result"
    }
   ],
   "source": [
    "carpma(10)"
   ]
  },
  {
   "cell_type": "code",
   "execution_count": 103,
   "id": "474bd629-84f5-4b93-8608-d1df6e134cdc",
   "metadata": {},
   "outputs": [],
   "source": [
    "ornekListe=[10,20,30]"
   ]
  },
  {
   "cell_type": "code",
   "execution_count": 105,
   "id": "92c7697b-24b4-4eed-88c6-bfc0f567219c",
   "metadata": {},
   "outputs": [
    {
     "data": {
      "text/plain": [
       "[40, 80, 120]"
      ]
     },
     "execution_count": 105,
     "metadata": {},
     "output_type": "execute_result"
    }
   ],
   "source": [
    "list(map(lambda numara : numara *4,ornekListe))"
   ]
  },
  {
   "cell_type": "markdown",
   "id": "e87e88ac-da7a-4035-ae7f-2e73350869e6",
   "metadata": {},
   "source": [
    "## scope"
   ]
  },
  {
   "cell_type": "code",
   "execution_count": 108,
   "id": "9318c917-ae41-4a99-8b1f-99a741e474dc",
   "metadata": {},
   "outputs": [],
   "source": [
    "numara=20"
   ]
  },
  {
   "cell_type": "code",
   "execution_count": 110,
   "id": "700985c1-2137-41ca-8850-4f0156e59fb0",
   "metadata": {},
   "outputs": [],
   "source": [
    "def carpma(rakam):\n",
    "    numara=10\n",
    "    return numara*rakam"
   ]
  },
  {
   "cell_type": "code",
   "execution_count": 112,
   "id": "f0cf93d2-d14f-4f9e-9699-cd92ea4f78b8",
   "metadata": {},
   "outputs": [
    {
     "data": {
      "text/plain": [
       "50"
      ]
     },
     "execution_count": 112,
     "metadata": {},
     "output_type": "execute_result"
    }
   ],
   "source": [
    "carpma(5)"
   ]
  },
  {
   "cell_type": "code",
   "execution_count": 114,
   "id": "5894251a-b405-499b-8fa1-31d41bbf254c",
   "metadata": {},
   "outputs": [
    {
     "name": "stdout",
     "output_type": "stream",
     "text": [
      "20\n"
     ]
    }
   ],
   "source": [
    "print(numara)"
   ]
  },
  {
   "cell_type": "markdown",
   "id": "14cc137b-149c-417a-a2c2-fc41e3a1b790",
   "metadata": {},
   "source": [
    "## Local,Enclosing,Global,Built-In"
   ]
  },
  {
   "cell_type": "code",
   "execution_count": 120,
   "id": "95a6209e-9695-41ab-97db-33b780c34e23",
   "metadata": {},
   "outputs": [],
   "source": [
    "benimAdim=\"Atıl\"\n",
    "#global"
   ]
  },
  {
   "cell_type": "code",
   "execution_count": 128,
   "id": "b952255d-ca1e-49d1-8c77-e4cf369bce1c",
   "metadata": {},
   "outputs": [],
   "source": [
    "def benimFonksiyonum():\n",
    "    benimAdim=\"Mahmut\"\n",
    "    #Enclosing\n",
    "    def icFonksyion():\n",
    "        benimAdim=\"Ayşe\"\n",
    "        #local\n",
    "        print(benimAdim)\n",
    "    icFonksyion()"
   ]
  },
  {
   "cell_type": "code",
   "execution_count": 130,
   "id": "654bdcc7-6d9e-48f7-9098-7df462092545",
   "metadata": {},
   "outputs": [
    {
     "name": "stdout",
     "output_type": "stream",
     "text": [
      "Ayşe\n"
     ]
    }
   ],
   "source": [
    "benimFonksiyonum()"
   ]
  },
  {
   "cell_type": "code",
   "execution_count": 134,
   "id": "0982efbf-af4d-464c-96e3-1b089e37c4fa",
   "metadata": {},
   "outputs": [],
   "source": [
    "y=10\n",
    "def ornekFonksiyon():\n",
    "    global y\n",
    "    y=5\n",
    "    print(y)"
   ]
  },
  {
   "cell_type": "code",
   "execution_count": null,
   "id": "ef5c8142-6dab-41e2-92a7-d0cd2ad97f42",
   "metadata": {},
   "outputs": [],
   "source": []
  }
 ],
 "metadata": {
  "kernelspec": {
   "display_name": "Python 3 (ipykernel)",
   "language": "python",
   "name": "python3"
  },
  "language_info": {
   "codemirror_mode": {
    "name": "ipython",
    "version": 3
   },
   "file_extension": ".py",
   "mimetype": "text/x-python",
   "name": "python",
   "nbconvert_exporter": "python",
   "pygments_lexer": "ipython3",
   "version": "3.12.7"
  }
 },
 "nbformat": 4,
 "nbformat_minor": 5
}
