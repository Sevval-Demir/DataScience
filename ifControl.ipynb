{
 "cells": [
  {
   "cell_type": "code",
   "execution_count": 1,
   "id": "d803185f-fce8-4c7e-9c9e-810f2d5e55c3",
   "metadata": {},
   "outputs": [
    {
     "name": "stdin",
     "output_type": "stream",
     "text": [
      "Süper kahraman seçiniz:  Superman\n"
     ]
    }
   ],
   "source": [
    "benimKahramanim=input(\"Süper kahraman seçiniz: \")"
   ]
  },
  {
   "cell_type": "code",
   "execution_count": 5,
   "id": "a9119351-ac7b-45a3-8138-6bdcecc82ced",
   "metadata": {},
   "outputs": [
    {
     "name": "stdout",
     "output_type": "stream",
     "text": [
      "Batman seçilmedi\n"
     ]
    }
   ],
   "source": [
    "if benimKahramanim==\"Batman\":\n",
    "    print(\"Batman seçildi\")\n",
    "elif benimKahramanim==\"Superman\":\n",
    "    print(\"Batman seçilmedi\")\n",
    "elif benimKahramanim==\"Ironman\":\n",
    "    print(\"Batman seçilmedi\")\n",
    "else:\n",
    "    print(\"Bu kim gerçekten bilmiyoruz.\")"
   ]
  },
  {
   "cell_type": "code",
   "execution_count": 7,
   "id": "e11377b9-46ae-4fb7-90d0-433bb26798e9",
   "metadata": {},
   "outputs": [
    {
     "name": "stdout",
     "output_type": "stream",
     "text": [
      "Bu kod çalışacak mı?\n"
     ]
    }
   ],
   "source": [
    "m=10\n",
    "k=4\n",
    "l=5\n",
    "if m>k or k>1:\n",
    "    print(\"Bu kod çalışacak mı?\")"
   ]
  },
  {
   "cell_type": "code",
   "execution_count": 9,
   "id": "cc8bd570-992f-4688-9544-199b528b6e79",
   "metadata": {},
   "outputs": [
    {
     "name": "stdout",
     "output_type": "stream",
     "text": [
      "yokmuş\n"
     ]
    }
   ],
   "source": [
    "benimString=\"Şevval DEMİR\"\n",
    "if \"Demir\" in benimString:\n",
    "    print(\"varmış\")\n",
    "else:\n",
    "    print(\"yokmuş\")"
   ]
  },
  {
   "cell_type": "code",
   "execution_count": 13,
   "id": "74fa3891-2038-45e8-927f-b43882bbee46",
   "metadata": {},
   "outputs": [],
   "source": [
    "benimListem=[10,20,30,40,50]"
   ]
  },
  {
   "cell_type": "code",
   "execution_count": 15,
   "id": "6e54d294-c110-41c4-901c-4966f7c241be",
   "metadata": {},
   "outputs": [],
   "source": [
    "if 60 in benimListem:\n",
    "    print(\"evet var\")"
   ]
  },
  {
   "cell_type": "code",
   "execution_count": 17,
   "id": "c825cb31-fc88-4d08-a54f-4aceb00e9b97",
   "metadata": {},
   "outputs": [],
   "source": [
    "benimSozluk={\"muz\":100,\"elma\":150,\"karpuz\":500}"
   ]
  },
  {
   "cell_type": "code",
   "execution_count": 19,
   "id": "b862354c-69e6-4b97-a484-329e23801a00",
   "metadata": {},
   "outputs": [
    {
     "name": "stdout",
     "output_type": "stream",
     "text": [
      "varmış\n"
     ]
    }
   ],
   "source": [
    "if \"muz\" in benimSozluk.keys():\n",
    "    print(\"varmış\")"
   ]
  },
  {
   "cell_type": "code",
   "execution_count": 21,
   "id": "00a00fe9-8f91-4e9f-9a58-93e79cfc6571",
   "metadata": {},
   "outputs": [],
   "source": [
    "if 20 in benimSozluk.values():\n",
    "    print(\"evet\")"
   ]
  },
  {
   "cell_type": "code",
   "execution_count": null,
   "id": "e67240a9-e670-4bfb-9919-a6e7d91314f3",
   "metadata": {},
   "outputs": [],
   "source": []
  }
 ],
 "metadata": {
  "kernelspec": {
   "display_name": "Python 3 (ipykernel)",
   "language": "python",
   "name": "python3"
  },
  "language_info": {
   "codemirror_mode": {
    "name": "ipython",
    "version": 3
   },
   "file_extension": ".py",
   "mimetype": "text/x-python",
   "name": "python",
   "nbconvert_exporter": "python",
   "pygments_lexer": "ipython3",
   "version": "3.12.7"
  }
 },
 "nbformat": 4,
 "nbformat_minor": 5
}
