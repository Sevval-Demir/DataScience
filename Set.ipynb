{
 "cells": [
  {
   "cell_type": "markdown",
   "id": "698d7501-566d-4168-be9b-f35238629e04",
   "metadata": {},
   "source": [
    "## Set"
   ]
  },
  {
   "cell_type": "code",
   "execution_count": 2,
   "id": "7dd08b08-6cdd-40e7-ae20-44eaa93650d6",
   "metadata": {},
   "outputs": [],
   "source": [
    "# 1 elemanı sadece 1 kere içerir"
   ]
  },
  {
   "cell_type": "code",
   "execution_count": 4,
   "id": "f97fe4da-3421-4d4f-b042-ae92f0d5b82c",
   "metadata": {},
   "outputs": [],
   "source": [
    "benimListem=[1,2,3,1,2,3,]"
   ]
  },
  {
   "cell_type": "code",
   "execution_count": 6,
   "id": "c9ba87e8-bb56-4859-8eb8-ada65cb1cfa6",
   "metadata": {},
   "outputs": [
    {
     "data": {
      "text/plain": [
       "[1, 2, 3, 1, 2, 3]"
      ]
     },
     "execution_count": 6,
     "metadata": {},
     "output_type": "execute_result"
    }
   ],
   "source": [
    "benimListem"
   ]
  },
  {
   "cell_type": "code",
   "execution_count": 10,
   "id": "2d3e6f87-c6f8-4475-9cc2-a0b670c1d48c",
   "metadata": {},
   "outputs": [],
   "source": [
    "# liste sete çevrildi\n",
    "benimListeSetim=set(benimListem)"
   ]
  },
  {
   "cell_type": "code",
   "execution_count": 12,
   "id": "16658dc4-fd2a-434f-b539-f86050ea9e1a",
   "metadata": {},
   "outputs": [
    {
     "data": {
      "text/plain": [
       "list"
      ]
     },
     "execution_count": 12,
     "metadata": {},
     "output_type": "execute_result"
    }
   ],
   "source": [
    "type(benimListem)"
   ]
  },
  {
   "cell_type": "code",
   "execution_count": 14,
   "id": "8f2083c3-beed-4c05-95be-178c01d8c1b8",
   "metadata": {},
   "outputs": [
    {
     "data": {
      "text/plain": [
       "set"
      ]
     },
     "execution_count": 14,
     "metadata": {},
     "output_type": "execute_result"
    }
   ],
   "source": [
    "type(benimListeSetim)"
   ]
  },
  {
   "cell_type": "code",
   "execution_count": 16,
   "id": "695a6336-163d-408d-be41-8427d62d63b0",
   "metadata": {},
   "outputs": [
    {
     "data": {
      "text/plain": [
       "{1, 2, 3}"
      ]
     },
     "execution_count": 16,
     "metadata": {},
     "output_type": "execute_result"
    }
   ],
   "source": [
    "benimListeSetim"
   ]
  },
  {
   "cell_type": "code",
   "execution_count": 18,
   "id": "6cbd73a2-5522-498a-9064-da3c4c772e6c",
   "metadata": {},
   "outputs": [],
   "source": [
    "benimSet={\"a\",\"b\",\"c\",\"a\"}"
   ]
  },
  {
   "cell_type": "code",
   "execution_count": 22,
   "id": "2959d33a-521b-4468-98ef-3f730fbe2996",
   "metadata": {},
   "outputs": [
    {
     "data": {
      "text/plain": [
       "set"
      ]
     },
     "execution_count": 22,
     "metadata": {},
     "output_type": "execute_result"
    }
   ],
   "source": [
    "type(benimSet)"
   ]
  },
  {
   "cell_type": "code",
   "execution_count": 24,
   "id": "3b4751c9-c9de-4049-9039-23c54dc1b205",
   "metadata": {},
   "outputs": [
    {
     "data": {
      "text/plain": [
       "{'a', 'b', 'c'}"
      ]
     },
     "execution_count": 24,
     "metadata": {},
     "output_type": "execute_result"
    }
   ],
   "source": [
    "benimSet"
   ]
  },
  {
   "cell_type": "code",
   "execution_count": 26,
   "id": "8dffea9d-a1d6-43a5-a2f5-b42c4332bb26",
   "metadata": {},
   "outputs": [],
   "source": [
    "bosListe=[]"
   ]
  },
  {
   "cell_type": "code",
   "execution_count": 28,
   "id": "4bc09836-681a-49f3-b64f-baedf1abda11",
   "metadata": {},
   "outputs": [
    {
     "data": {
      "text/plain": [
       "list"
      ]
     },
     "execution_count": 28,
     "metadata": {},
     "output_type": "execute_result"
    }
   ],
   "source": [
    "type(bosListe)"
   ]
  },
  {
   "cell_type": "code",
   "execution_count": 30,
   "id": "2e6126ea-4883-4493-beb5-7046bb405bbe",
   "metadata": {},
   "outputs": [
    {
     "data": {
      "text/plain": [
       "[]"
      ]
     },
     "execution_count": 30,
     "metadata": {},
     "output_type": "execute_result"
    }
   ],
   "source": [
    "bosListe"
   ]
  },
  {
   "cell_type": "code",
   "execution_count": 32,
   "id": "984c7433-c09c-47a8-96e8-673d3b1f9a75",
   "metadata": {},
   "outputs": [],
   "source": [
    "bosListe.append(1)"
   ]
  },
  {
   "cell_type": "code",
   "execution_count": 34,
   "id": "f5ba2e26-be54-4135-9c5f-f36f34fb1960",
   "metadata": {},
   "outputs": [
    {
     "data": {
      "text/plain": [
       "[1]"
      ]
     },
     "execution_count": 34,
     "metadata": {},
     "output_type": "execute_result"
    }
   ],
   "source": [
    "bosListe"
   ]
  },
  {
   "cell_type": "code",
   "execution_count": 36,
   "id": "e8f3bf64-f09d-4fee-af87-3c1df141b468",
   "metadata": {},
   "outputs": [],
   "source": [
    "bosSet={}"
   ]
  },
  {
   "cell_type": "code",
   "execution_count": 38,
   "id": "2a1d7d86-2c32-4ce9-8d00-56f032a45366",
   "metadata": {},
   "outputs": [
    {
     "data": {
      "text/plain": [
       "dict"
      ]
     },
     "execution_count": 38,
     "metadata": {},
     "output_type": "execute_result"
    }
   ],
   "source": [
    "type(bosSet)"
   ]
  },
  {
   "cell_type": "code",
   "execution_count": 40,
   "id": "4f5070c9-2aa7-430f-bebf-c30e3beaae51",
   "metadata": {},
   "outputs": [],
   "source": [
    "bosSozluk={}"
   ]
  },
  {
   "cell_type": "code",
   "execution_count": 42,
   "id": "cc76212d-008e-4e79-8fb0-5cf9a761aabb",
   "metadata": {},
   "outputs": [
    {
     "data": {
      "text/plain": [
       "dict"
      ]
     },
     "execution_count": 42,
     "metadata": {},
     "output_type": "execute_result"
    }
   ],
   "source": [
    "type(bosSozluk)"
   ]
  },
  {
   "cell_type": "code",
   "execution_count": 44,
   "id": "08a0740f-9317-41d6-9597-4f0fcebed648",
   "metadata": {},
   "outputs": [],
   "source": [
    "bosSozluk[\"anahtar kelime\"]=10"
   ]
  },
  {
   "cell_type": "code",
   "execution_count": 46,
   "id": "e0273659-7469-4852-82d3-39054aac79dd",
   "metadata": {},
   "outputs": [
    {
     "data": {
      "text/plain": [
       "{'anahtar kelime': 10}"
      ]
     },
     "execution_count": 46,
     "metadata": {},
     "output_type": "execute_result"
    }
   ],
   "source": [
    "bosSozluk"
   ]
  },
  {
   "cell_type": "code",
   "execution_count": 48,
   "id": "518ef478-906f-43e4-964f-5b3c0dd655c3",
   "metadata": {},
   "outputs": [],
   "source": [
    "benimBosSetim=set()"
   ]
  },
  {
   "cell_type": "code",
   "execution_count": 50,
   "id": "658a68ba-e7ba-4dbe-a715-b69db7663751",
   "metadata": {},
   "outputs": [
    {
     "data": {
      "text/plain": [
       "set()"
      ]
     },
     "execution_count": 50,
     "metadata": {},
     "output_type": "execute_result"
    }
   ],
   "source": [
    "benimBosSetim"
   ]
  },
  {
   "cell_type": "code",
   "execution_count": 52,
   "id": "1ddf7b20-9c29-4b53-bc24-16d21886c395",
   "metadata": {},
   "outputs": [],
   "source": [
    "benimBosSetim.add(10)"
   ]
  },
  {
   "cell_type": "code",
   "execution_count": 54,
   "id": "d741d0d2-04de-4619-a6e1-5ce0060c8dfe",
   "metadata": {},
   "outputs": [],
   "source": [
    "benimBosSetim.add(20)"
   ]
  },
  {
   "cell_type": "code",
   "execution_count": 56,
   "id": "8fddd703-839f-464c-aded-cc819a069a1c",
   "metadata": {},
   "outputs": [],
   "source": [
    "benimBosSetim.add(300)"
   ]
  },
  {
   "cell_type": "code",
   "execution_count": 58,
   "id": "3f87bc68-6b66-43db-b2ba-0dc3119125cf",
   "metadata": {},
   "outputs": [
    {
     "data": {
      "text/plain": [
       "{10, 20, 300}"
      ]
     },
     "execution_count": 58,
     "metadata": {},
     "output_type": "execute_result"
    }
   ],
   "source": [
    "benimBosSetim"
   ]
  },
  {
   "cell_type": "code",
   "execution_count": 60,
   "id": "39b8867f-9c22-4a82-8797-45284558a6b1",
   "metadata": {},
   "outputs": [],
   "source": [
    "benimBosSetim.add(10)"
   ]
  },
  {
   "cell_type": "code",
   "execution_count": 62,
   "id": "078e2298-b9ba-4b88-8e61-c0c958a2ef1a",
   "metadata": {},
   "outputs": [
    {
     "data": {
      "text/plain": [
       "{10, 20, 300}"
      ]
     },
     "execution_count": 62,
     "metadata": {},
     "output_type": "execute_result"
    }
   ],
   "source": [
    "benimBosSetim"
   ]
  },
  {
   "cell_type": "code",
   "execution_count": 64,
   "id": "d9b3b0f5-9ed3-4b33-8162-990cf7d6a539",
   "metadata": {},
   "outputs": [
    {
     "data": {
      "text/plain": [
       "[1, 2, 3, 1, 2, 3]"
      ]
     },
     "execution_count": 64,
     "metadata": {},
     "output_type": "execute_result"
    }
   ],
   "source": [
    "benimListem"
   ]
  },
  {
   "cell_type": "code",
   "execution_count": 66,
   "id": "be3deb3f-51e8-45c7-b132-7f8d8b5a3b6c",
   "metadata": {},
   "outputs": [],
   "source": [
    "benimBosListem=list()"
   ]
  },
  {
   "cell_type": "code",
   "execution_count": 68,
   "id": "16eae4d9-3623-4dda-9c27-9472cd3631e9",
   "metadata": {},
   "outputs": [
    {
     "data": {
      "text/plain": [
       "[]"
      ]
     },
     "execution_count": 68,
     "metadata": {},
     "output_type": "execute_result"
    }
   ],
   "source": [
    "benimBosListem"
   ]
  },
  {
   "cell_type": "code",
   "execution_count": 70,
   "id": "996be898-aaa0-45da-865c-4b46f9314981",
   "metadata": {},
   "outputs": [],
   "source": [
    "benimBosListem.append(10)"
   ]
  },
  {
   "cell_type": "code",
   "execution_count": 72,
   "id": "99486a5d-1bf3-41a5-852b-bf10b32fa83d",
   "metadata": {},
   "outputs": [
    {
     "data": {
      "text/plain": [
       "[10]"
      ]
     },
     "execution_count": 72,
     "metadata": {},
     "output_type": "execute_result"
    }
   ],
   "source": [
    "benimBosListem"
   ]
  },
  {
   "cell_type": "code",
   "execution_count": 74,
   "id": "b65b049a-bed9-4cfd-84d8-fa5471b9dfb7",
   "metadata": {},
   "outputs": [],
   "source": [
    "benimBosSozlugum=dict()"
   ]
  },
  {
   "cell_type": "code",
   "execution_count": 76,
   "id": "6afe1f92-e18a-4b45-98f9-59e83c5ab974",
   "metadata": {},
   "outputs": [],
   "source": [
    "benimBosSozlugum[\"key\"]=3234"
   ]
  },
  {
   "cell_type": "code",
   "execution_count": 78,
   "id": "f38a380f-5402-435a-9966-917272a405e2",
   "metadata": {},
   "outputs": [
    {
     "data": {
      "text/plain": [
       "{'key': 3234}"
      ]
     },
     "execution_count": 78,
     "metadata": {},
     "output_type": "execute_result"
    }
   ],
   "source": [
    "benimBosSozlugum"
   ]
  },
  {
   "cell_type": "code",
   "execution_count": null,
   "id": "83d6c894-60b7-45f1-b3ed-55f6741306c7",
   "metadata": {},
   "outputs": [],
   "source": []
  }
 ],
 "metadata": {
  "kernelspec": {
   "display_name": "Python 3 (ipykernel)",
   "language": "python",
   "name": "python3"
  },
  "language_info": {
   "codemirror_mode": {
    "name": "ipython",
    "version": 3
   },
   "file_extension": ".py",
   "mimetype": "text/x-python",
   "name": "python",
   "nbconvert_exporter": "python",
   "pygments_lexer": "ipython3",
   "version": "3.12.7"
  }
 },
 "nbformat": 4,
 "nbformat_minor": 5
}
