{
 "cells": [
  {
   "cell_type": "code",
   "execution_count": null,
   "id": "9b14f970-ea68-44fb-b9e8-5acafd70d9ee",
   "metadata": {},
   "outputs": [
    {
     "name": "stdin",
     "output_type": "stream",
     "text": [
      "İlk sayıyı giriniz:  10\n",
      "İkinci sayıyı giriniz:  20\n",
      "Yapılacak işlemi seçiniz (+, -, *, /):  *\n"
     ]
    },
    {
     "name": "stdout",
     "output_type": "stream",
     "text": [
      "10 * 20 = 200\n"
     ]
    }
   ],
   "source": [
    "def hesapla(a, b, islem):\n",
    "    if islem == \"+\":\n",
    "        return f\"{a} + {b} = {a + b}\"\n",
    "    elif islem == \"-\":\n",
    "        return f\"{a} - {b} = {a - b}\"\n",
    "    elif islem == \"*\":\n",
    "        return f\"{a} * {b} = {a * b}\"\n",
    "    elif islem == \"/\":\n",
    "        if b == 0:\n",
    "            return \"Hata: Sıfıra bölme işlemi yapılamaz!\"\n",
    "        return f\"{a} / {b} = {a / b}\"\n",
    "    else:\n",
    "        return \"Geçersiz işlem!\"\n",
    "\n",
    "while True:\n",
    "    try:\n",
    "        a = int(input(\"İlk sayıyı giriniz: \"))\n",
    "        b = int(input(\"İkinci sayıyı giriniz: \"))\n",
    "        islem = input(\"Yapılacak işlemi seçiniz (+, -, *, /): \")\n",
    "        print(hesapla(a, b, islem))\n",
    "    except:\n",
    "        print(\"Lütfen sayıları düzgün giriniz\")\n"
   ]
  },
  {
   "cell_type": "code",
   "execution_count": null,
   "id": "375951ad-0699-4d8f-8dc9-7a07426f601e",
   "metadata": {},
   "outputs": [],
   "source": []
  }
 ],
 "metadata": {
  "kernelspec": {
   "display_name": "Python 3 (ipykernel)",
   "language": "python",
   "name": "python3"
  },
  "language_info": {
   "codemirror_mode": {
    "name": "ipython",
    "version": 3
   },
   "file_extension": ".py",
   "mimetype": "text/x-python",
   "name": "python",
   "nbconvert_exporter": "python",
   "pygments_lexer": "ipython3",
   "version": "3.12.7"
  }
 },
 "nbformat": 4,
 "nbformat_minor": 5
}
