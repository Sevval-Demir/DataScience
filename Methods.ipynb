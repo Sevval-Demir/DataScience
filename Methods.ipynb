{
 "cells": [
  {
   "cell_type": "markdown",
   "id": "55483901-389b-42c5-af91-0c16fb297484",
   "metadata": {},
   "source": [
    "## range"
   ]
  },
  {
   "cell_type": "code",
   "execution_count": 2,
   "id": "b5a9478d-550d-4479-bcba-9796c216004d",
   "metadata": {},
   "outputs": [
    {
     "data": {
      "text/plain": [
       "range(0, 15)"
      ]
     },
     "execution_count": 2,
     "metadata": {},
     "output_type": "execute_result"
    }
   ],
   "source": [
    "range(15)"
   ]
  },
  {
   "cell_type": "code",
   "execution_count": 8,
   "id": "2d2b98f0-16df-4002-a2db-50bb1ce5ba40",
   "metadata": {},
   "outputs": [
    {
     "data": {
      "text/plain": [
       "[0, 1, 2, 3, 4, 5, 6, 7, 8, 9, 10, 11, 12, 13, 14]"
      ]
     },
     "execution_count": 8,
     "metadata": {},
     "output_type": "execute_result"
    }
   ],
   "source": [
    "list(range(15))"
   ]
  },
  {
   "cell_type": "code",
   "execution_count": 10,
   "id": "73c9ef63-4527-458d-b5db-42b43f3d4920",
   "metadata": {},
   "outputs": [
    {
     "name": "stdout",
     "output_type": "stream",
     "text": [
      "0\n",
      "5\n",
      "10\n",
      "15\n",
      "20\n",
      "25\n",
      "30\n",
      "35\n",
      "40\n",
      "45\n",
      "50\n",
      "55\n",
      "60\n",
      "65\n",
      "70\n"
     ]
    }
   ],
   "source": [
    "for numara in list(range(15)):\n",
    "    print(numara*5)"
   ]
  },
  {
   "cell_type": "code",
   "execution_count": 12,
   "id": "61cb5e65-0209-4238-a9b7-05c38bdd252e",
   "metadata": {},
   "outputs": [
    {
     "data": {
      "text/plain": [
       "[5, 9, 13, 17, 21]"
      ]
     },
     "execution_count": 12,
     "metadata": {},
     "output_type": "execute_result"
    }
   ],
   "source": [
    "list(range(5,22,4))"
   ]
  },
  {
   "cell_type": "markdown",
   "id": "aad176ec-1d59-4fe5-b4ae-e9a2c1fa503e",
   "metadata": {},
   "source": [
    "## enumerate"
   ]
  },
  {
   "cell_type": "code",
   "execution_count": 15,
   "id": "bd1e4552-5453-437b-86f5-fbca0adf7c8a",
   "metadata": {},
   "outputs": [],
   "source": [
    "index=0"
   ]
  },
  {
   "cell_type": "code",
   "execution_count": 19,
   "id": "7da37d77-0038-4727-a812-b90dc4cdf025",
   "metadata": {},
   "outputs": [
    {
     "name": "stdout",
     "output_type": "stream",
     "text": [
      "güncel numara:5 güncel index: 0\n",
      "güncel numara:6 güncel index: 1\n",
      "güncel numara:7 güncel index: 2\n",
      "güncel numara:8 güncel index: 3\n",
      "güncel numara:9 güncel index: 4\n",
      "güncel numara:10 güncel index: 5\n",
      "güncel numara:11 güncel index: 6\n",
      "güncel numara:12 güncel index: 7\n",
      "güncel numara:13 güncel index: 8\n",
      "güncel numara:14 güncel index: 9\n"
     ]
    }
   ],
   "source": [
    "for numara in list(range(5,15)):\n",
    "    print(f\"güncel numara:{numara} güncel index: {index}\")\n",
    "    index=index+1"
   ]
  },
  {
   "cell_type": "code",
   "execution_count": 25,
   "id": "7f585fa5-490f-4a85-b575-67c069613251",
   "metadata": {},
   "outputs": [
    {
     "name": "stdout",
     "output_type": "stream",
     "text": [
      "(0, 5)\n",
      "(1, 6)\n",
      "(2, 7)\n",
      "(3, 8)\n",
      "(4, 9)\n",
      "(5, 10)\n",
      "(6, 11)\n",
      "(7, 12)\n",
      "(8, 13)\n",
      "(9, 14)\n"
     ]
    }
   ],
   "source": [
    "for eleman in enumerate(list(range(5,15))):\n",
    "    print(eleman)\n",
    "    #print(type(eleman))"
   ]
  },
  {
   "cell_type": "code",
   "execution_count": 27,
   "id": "94953add-abd2-4a61-b12b-de6671c62db0",
   "metadata": {},
   "outputs": [
    {
     "name": "stdout",
     "output_type": "stream",
     "text": [
      "5\n",
      "6\n",
      "7\n",
      "8\n",
      "9\n",
      "10\n",
      "11\n",
      "12\n",
      "13\n",
      "14\n"
     ]
    }
   ],
   "source": [
    "for (index,numara) in enumerate(list(range(5,15))):\n",
    "    print(numara)"
   ]
  },
  {
   "cell_type": "markdown",
   "id": "982a760e-db3b-4782-af0f-11515d349f3b",
   "metadata": {},
   "source": [
    "## random"
   ]
  },
  {
   "cell_type": "code",
   "execution_count": 30,
   "id": "eadb509f-2d50-4ec4-b2c9-d3b45d74f490",
   "metadata": {},
   "outputs": [],
   "source": [
    "from random import randint"
   ]
  },
  {
   "cell_type": "code",
   "execution_count": 32,
   "id": "92da8887-2799-477b-8272-83d10f22a35c",
   "metadata": {},
   "outputs": [
    {
     "data": {
      "text/plain": [
       "72"
      ]
     },
     "execution_count": 32,
     "metadata": {},
     "output_type": "execute_result"
    }
   ],
   "source": [
    "randint(0,100)"
   ]
  },
  {
   "cell_type": "code",
   "execution_count": 34,
   "id": "15a9d90e-20ad-40f6-adde-0aeb7b782952",
   "metadata": {},
   "outputs": [
    {
     "data": {
      "text/plain": [
       "52"
      ]
     },
     "execution_count": 34,
     "metadata": {},
     "output_type": "execute_result"
    }
   ],
   "source": [
    "randint(0,100)"
   ]
  },
  {
   "cell_type": "code",
   "execution_count": 36,
   "id": "d7cab11d-3b04-49eb-9e49-9f8adebeb28a",
   "metadata": {},
   "outputs": [
    {
     "data": {
      "text/plain": [
       "95"
      ]
     },
     "execution_count": 36,
     "metadata": {},
     "output_type": "execute_result"
    }
   ],
   "source": [
    "randint(0,100)"
   ]
  },
  {
   "cell_type": "code",
   "execution_count": 38,
   "id": "44deb991-8e2b-42e5-9a3b-23995a3fe7fb",
   "metadata": {},
   "outputs": [
    {
     "data": {
      "text/plain": [
       "31"
      ]
     },
     "execution_count": 38,
     "metadata": {},
     "output_type": "execute_result"
    }
   ],
   "source": [
    "randint(0,100)"
   ]
  },
  {
   "cell_type": "code",
   "execution_count": 40,
   "id": "b0887931-2fac-4e63-81a5-2b61b317da89",
   "metadata": {},
   "outputs": [],
   "source": [
    "yeniListe=list(range(0,10))"
   ]
  },
  {
   "cell_type": "code",
   "execution_count": 42,
   "id": "54f5e56f-49b4-4c70-b8de-f0d738dfb893",
   "metadata": {},
   "outputs": [
    {
     "data": {
      "text/plain": [
       "[0, 1, 2, 3, 4, 5, 6, 7, 8, 9]"
      ]
     },
     "execution_count": 42,
     "metadata": {},
     "output_type": "execute_result"
    }
   ],
   "source": [
    "yeniListe"
   ]
  },
  {
   "cell_type": "code",
   "execution_count": 44,
   "id": "79652420-7e57-4ea2-b554-8af034adba18",
   "metadata": {},
   "outputs": [],
   "source": [
    "from random import shuffle"
   ]
  },
  {
   "cell_type": "code",
   "execution_count": 46,
   "id": "bc7f8beb-fddf-4c28-95b6-02feaa831b40",
   "metadata": {},
   "outputs": [],
   "source": [
    "shuffle(yeniListe)"
   ]
  },
  {
   "cell_type": "code",
   "execution_count": 48,
   "id": "28536db5-e8bb-4313-b706-f9bd6a1111d6",
   "metadata": {},
   "outputs": [
    {
     "data": {
      "text/plain": [
       "[7, 3, 2, 0, 5, 1, 8, 6, 4, 9]"
      ]
     },
     "execution_count": 48,
     "metadata": {},
     "output_type": "execute_result"
    }
   ],
   "source": [
    "yeniListe"
   ]
  },
  {
   "cell_type": "code",
   "execution_count": null,
   "id": "e39d139f-b73d-4fe0-8a55-b33384b7a2be",
   "metadata": {},
   "outputs": [],
   "source": []
  }
 ],
 "metadata": {
  "kernelspec": {
   "display_name": "Python 3 (ipykernel)",
   "language": "python",
   "name": "python3"
  },
  "language_info": {
   "codemirror_mode": {
    "name": "ipython",
    "version": 3
   },
   "file_extension": ".py",
   "mimetype": "text/x-python",
   "name": "python",
   "nbconvert_exporter": "python",
   "pygments_lexer": "ipython3",
   "version": "3.12.7"
  }
 },
 "nbformat": 4,
 "nbformat_minor": 5
}
