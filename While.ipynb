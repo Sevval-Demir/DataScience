{
 "cells": [
  {
   "cell_type": "code",
   "execution_count": 1,
   "id": "12220c12-7272-4223-9237-cf767d5b6f24",
   "metadata": {},
   "outputs": [],
   "source": [
    "yeniDegisken=0"
   ]
  },
  {
   "cell_type": "code",
   "execution_count": 3,
   "id": "cda202a8-e545-46df-8c6f-1ac16916c26a",
   "metadata": {},
   "outputs": [
    {
     "name": "stdout",
     "output_type": "stream",
     "text": [
      "0\n",
      "1\n",
      "2\n",
      "3\n",
      "4\n",
      "5\n",
      "6\n",
      "7\n",
      "8\n",
      "9\n",
      "10\n",
      "11\n",
      "12\n",
      "13\n",
      "14\n"
     ]
    }
   ],
   "source": [
    "while yeniDegisken<15:\n",
    "    print(yeniDegisken)\n",
    "    yeniDegisken=yeniDegisken+1"
   ]
  },
  {
   "cell_type": "code",
   "execution_count": 5,
   "id": "7e918b98-26d1-41a0-b705-7bc3f8a40008",
   "metadata": {},
   "outputs": [
    {
     "name": "stdout",
     "output_type": "stream",
     "text": [
      "Yeni Değişkenin Güncel Değeri: 0\n",
      "Yeni Değişkenin Güncel Değeri: 1\n",
      "Yeni Değişkenin Güncel Değeri: 2\n",
      "Yeni Değişkenin Güncel Değeri: 3\n",
      "Yeni Değişkenin Güncel Değeri: 4\n",
      "Yeni Değişkenin Güncel Değeri: 5\n",
      "Yeni Değişkenin Güncel Değeri: 6\n",
      "Yeni Değişkenin Güncel Değeri: 7\n",
      "Yeni Değişkenin Güncel Değeri: 8\n",
      "Yeni Değişkenin Güncel Değeri: 9\n",
      "Yeni Değişkenin Güncel Değeri: 10\n",
      "Yeni Değişkenin Güncel Değeri: 11\n",
      "Yeni Değişkenin Güncel Değeri: 12\n",
      "Yeni Değişkenin Güncel Değeri: 13\n",
      "Yeni Değişkenin Güncel Değeri: 14\n"
     ]
    }
   ],
   "source": [
    "yeniDegisken=0\n",
    "while yeniDegisken<15:\n",
    "    print(f\"Yeni Değişkenin Güncel Değeri: {yeniDegisken}\")\n",
    "    #print(\"Yeni Değişkenin Güncel Değeri: \"+str(yeniDegisken))\n",
    "    yeniDegisken=yeniDegisken+1"
   ]
  },
  {
   "cell_type": "code",
   "execution_count": null,
   "id": "0065ccec-6408-4a54-bb68-77f58bb0edf2",
   "metadata": {},
   "outputs": [],
   "source": []
  }
 ],
 "metadata": {
  "kernelspec": {
   "display_name": "Python 3 (ipykernel)",
   "language": "python",
   "name": "python3"
  },
  "language_info": {
   "codemirror_mode": {
    "name": "ipython",
    "version": 3
   },
   "file_extension": ".py",
   "mimetype": "text/x-python",
   "name": "python",
   "nbconvert_exporter": "python",
   "pygments_lexer": "ipython3",
   "version": "3.12.7"
  }
 },
 "nbformat": 4,
 "nbformat_minor": 5
}
