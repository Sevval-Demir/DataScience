{
 "cells": [
  {
   "cell_type": "markdown",
   "id": "317d4cc2-fd79-4a79-8f26-6f4805b1ea9b",
   "metadata": {},
   "source": [
    "## List"
   ]
  },
  {
   "cell_type": "code",
   "execution_count": 2,
   "id": "d84fa6a5-ba18-46a3-ade8-898add3c3273",
   "metadata": {},
   "outputs": [],
   "source": [
    "karisikListe=[1,2,3.5,\"şevval\",9]"
   ]
  },
  {
   "cell_type": "code",
   "execution_count": 4,
   "id": "2311a210-83e7-4a10-b694-240d2ac89877",
   "metadata": {},
   "outputs": [
    {
     "data": {
      "text/plain": [
       "list"
      ]
     },
     "execution_count": 4,
     "metadata": {},
     "output_type": "execute_result"
    }
   ],
   "source": [
    "type(karisikListe)"
   ]
  },
  {
   "cell_type": "code",
   "execution_count": 6,
   "id": "c5801a5a-f336-4ec1-bbda-bb6bb8119131",
   "metadata": {},
   "outputs": [],
   "source": [
    "sonucum=karisikListe[0]"
   ]
  },
  {
   "cell_type": "code",
   "execution_count": 8,
   "id": "b8385b62-3c3c-4b0d-9e4a-016d1e14a482",
   "metadata": {},
   "outputs": [
    {
     "data": {
      "text/plain": [
       "int"
      ]
     },
     "execution_count": 8,
     "metadata": {},
     "output_type": "execute_result"
    }
   ],
   "source": [
    "type(sonucum)"
   ]
  },
  {
   "cell_type": "code",
   "execution_count": 12,
   "id": "5c49c5bb-c51f-46f6-b4b9-a7597fd3c710",
   "metadata": {},
   "outputs": [],
   "source": [
    "nestedList=[1,5,\"şevval\",4,[6,\"z\"]]"
   ]
  },
  {
   "cell_type": "code",
   "execution_count": 14,
   "id": "abf1108f-a213-49db-a039-0e9cbab57dc8",
   "metadata": {},
   "outputs": [],
   "source": [
    "x=nestedList[4][1]"
   ]
  },
  {
   "cell_type": "code",
   "execution_count": 16,
   "id": "c15f99f6-453b-4ca6-8a70-afe1c37f8444",
   "metadata": {},
   "outputs": [
    {
     "data": {
      "text/plain": [
       "'z'"
      ]
     },
     "execution_count": 16,
     "metadata": {},
     "output_type": "execute_result"
    }
   ],
   "source": [
    "x"
   ]
  },
  {
   "cell_type": "code",
   "execution_count": 18,
   "id": "2cc6fdf0-ff39-4087-a2b3-c4639c9e31eb",
   "metadata": {},
   "outputs": [],
   "source": [
    "karmasikListe=[[1,2,3,[\"a\",\"b\"],50],40,20,[\"z\",5.5],[3,[\"a\"]]]"
   ]
  },
  {
   "cell_type": "code",
   "execution_count": 20,
   "id": "211e5b4c-fd01-4b56-ad20-238df18a63d4",
   "metadata": {},
   "outputs": [],
   "source": [
    "bdegiskeni=karmasikListe[0][3][1]"
   ]
  },
  {
   "cell_type": "code",
   "execution_count": 22,
   "id": "5def08c9-118f-4388-9f5f-7f4921834461",
   "metadata": {},
   "outputs": [
    {
     "data": {
      "text/plain": [
       "'b'"
      ]
     },
     "execution_count": 22,
     "metadata": {},
     "output_type": "execute_result"
    }
   ],
   "source": [
    "bdegiskeni"
   ]
  },
  {
   "cell_type": "code",
   "execution_count": null,
   "id": "d533d937-fa44-4afd-94e4-577a944bb5f6",
   "metadata": {},
   "outputs": [],
   "source": []
  }
 ],
 "metadata": {
  "kernelspec": {
   "display_name": "Python 3 (ipykernel)",
   "language": "python",
   "name": "python3"
  },
  "language_info": {
   "codemirror_mode": {
    "name": "ipython",
    "version": 3
   },
   "file_extension": ".py",
   "mimetype": "text/x-python",
   "name": "python",
   "nbconvert_exporter": "python",
   "pygments_lexer": "ipython3",
   "version": "3.12.7"
  }
 },
 "nbformat": 4,
 "nbformat_minor": 5
}
