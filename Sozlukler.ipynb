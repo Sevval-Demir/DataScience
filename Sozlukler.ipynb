{
 "cells": [
  {
   "cell_type": "markdown",
   "id": "64127c69-1fa2-4f84-8ad0-df196bfd8ce7",
   "metadata": {},
   "source": [
    "## key-value pairing"
   ]
  },
  {
   "cell_type": "code",
   "execution_count": 2,
   "id": "f2414add-7cfb-4b87-9d1c-0222347f705f",
   "metadata": {},
   "outputs": [],
   "source": [
    "benimYemeklerim=[\"Elma\",\"Karpuz\",\"Muz\"]"
   ]
  },
  {
   "cell_type": "code",
   "execution_count": 4,
   "id": "6fb1b4e3-4a12-4194-aa22-e540ae420f55",
   "metadata": {},
   "outputs": [],
   "source": [
    "benimKalorilerim=[100,200,300]"
   ]
  },
  {
   "cell_type": "code",
   "execution_count": 6,
   "id": "d1968b87-ec6f-4ef6-92b1-c182b198b219",
   "metadata": {},
   "outputs": [],
   "source": [
    "#dictionary"
   ]
  },
  {
   "cell_type": "code",
   "execution_count": 8,
   "id": "e215ac8a-cd8e-45ed-8577-a1fa97ec41e3",
   "metadata": {},
   "outputs": [],
   "source": [
    "benimSozluk={\"anahtarkelime\":\"deger\"}"
   ]
  },
  {
   "cell_type": "code",
   "execution_count": 10,
   "id": "412a9b1c-565c-486f-ae31-f69f8de52096",
   "metadata": {},
   "outputs": [
    {
     "data": {
      "text/plain": [
       "dict"
      ]
     },
     "execution_count": 10,
     "metadata": {},
     "output_type": "execute_result"
    }
   ],
   "source": [
    "type(benimSozluk)"
   ]
  },
  {
   "cell_type": "code",
   "execution_count": 12,
   "id": "e4b28a87-2622-4128-a1cd-3b6fddc54621",
   "metadata": {},
   "outputs": [
    {
     "data": {
      "text/plain": [
       "'deger'"
      ]
     },
     "execution_count": 12,
     "metadata": {},
     "output_type": "execute_result"
    }
   ],
   "source": [
    "benimSozluk[\"anahtarkelime\"]"
   ]
  },
  {
   "cell_type": "code",
   "execution_count": 14,
   "id": "477539ca-3e1a-42d4-bb92-ee43c979233a",
   "metadata": {},
   "outputs": [],
   "source": [
    "benimYemekKaloriSozlugum={\"elma\":100,\"karpuz\":200,\"muz\":300}"
   ]
  },
  {
   "cell_type": "code",
   "execution_count": 16,
   "id": "c7fbed2e-2569-4636-a4f0-e1ec5083c376",
   "metadata": {},
   "outputs": [
    {
     "data": {
      "text/plain": [
       "300"
      ]
     },
     "execution_count": 16,
     "metadata": {},
     "output_type": "execute_result"
    }
   ],
   "source": [
    "benimYemekKaloriSozlugum[\"muz\"]"
   ]
  },
  {
   "cell_type": "code",
   "execution_count": 18,
   "id": "264f43bb-2f49-415b-85fc-615c516896cd",
   "metadata": {},
   "outputs": [],
   "source": [
    "benimYemekKaloriSozlugum[\"elma\"]=555"
   ]
  },
  {
   "cell_type": "code",
   "execution_count": 20,
   "id": "c09f5f27-4c9e-418d-9b3f-bc4ac9b5c6a3",
   "metadata": {},
   "outputs": [
    {
     "data": {
      "text/plain": [
       "{'elma': 555, 'karpuz': 200, 'muz': 300}"
      ]
     },
     "execution_count": 20,
     "metadata": {},
     "output_type": "execute_result"
    }
   ],
   "source": [
    "benimYemekKaloriSozlugum"
   ]
  },
  {
   "cell_type": "code",
   "execution_count": 22,
   "id": "969e88de-bb65-4ebd-b083-c7b183f3ae5f",
   "metadata": {},
   "outputs": [],
   "source": [
    "yeniDictionary={\"anahtar1\":100,\"anahtar2\":[10,20,30,40,4.5,\"şevval\"],\"anahtar3\":{\"anahtar9\":4}}"
   ]
  },
  {
   "cell_type": "code",
   "execution_count": 24,
   "id": "68365e3d-d941-4675-9e34-d2fb092176f9",
   "metadata": {},
   "outputs": [
    {
     "data": {
      "text/plain": [
       "dict_keys(['anahtar1', 'anahtar2', 'anahtar3'])"
      ]
     },
     "execution_count": 24,
     "metadata": {},
     "output_type": "execute_result"
    }
   ],
   "source": [
    "yeniDictionary.keys()"
   ]
  },
  {
   "cell_type": "code",
   "execution_count": 26,
   "id": "18d7784e-caf6-4bdb-8ef3-ac0e0e1b5226",
   "metadata": {},
   "outputs": [
    {
     "data": {
      "text/plain": [
       "dict_values([100, [10, 20, 30, 40, 4.5, 'şevval'], {'anahtar9': 4}])"
      ]
     },
     "execution_count": 26,
     "metadata": {},
     "output_type": "execute_result"
    }
   ],
   "source": [
    "yeniDictionary.values()"
   ]
  },
  {
   "cell_type": "code",
   "execution_count": 28,
   "id": "764f4c02-ed1e-496e-8694-735d23ff9cbc",
   "metadata": {},
   "outputs": [
    {
     "data": {
      "text/plain": [
       "[10, 20, 30, 40, 4.5, 'şevval']"
      ]
     },
     "execution_count": 28,
     "metadata": {},
     "output_type": "execute_result"
    }
   ],
   "source": [
    "yeniDictionary[\"anahtar2\"]"
   ]
  },
  {
   "cell_type": "code",
   "execution_count": null,
   "id": "e2a9a844-b0e0-4def-b4c3-7c3898a89ace",
   "metadata": {},
   "outputs": [],
   "source": []
  }
 ],
 "metadata": {
  "kernelspec": {
   "display_name": "Python 3 (ipykernel)",
   "language": "python",
   "name": "python3"
  },
  "language_info": {
   "codemirror_mode": {
    "name": "ipython",
    "version": 3
   },
   "file_extension": ".py",
   "mimetype": "text/x-python",
   "name": "python",
   "nbconvert_exporter": "python",
   "pygments_lexer": "ipython3",
   "version": "3.12.7"
  }
 },
 "nbformat": 4,
 "nbformat_minor": 5
}
