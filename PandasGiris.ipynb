{
 "cells": [
  {
   "cell_type": "code",
   "execution_count": 1,
   "id": "02f27e47-53c0-4e34-ae15-673c7900a5f7",
   "metadata": {},
   "outputs": [],
   "source": [
    "import numpy as np\n",
    "import pandas as pd"
   ]
  },
  {
   "cell_type": "markdown",
   "id": "5c40dc6f-481a-46b5-88dd-91c7dbbfd8fb",
   "metadata": {},
   "source": [
    "## Series"
   ]
  },
  {
   "cell_type": "code",
   "execution_count": 4,
   "id": "de692a89-7a7b-417e-bc9e-4e15341bd7c4",
   "metadata": {},
   "outputs": [],
   "source": [
    "benimSozlugum={\"Atıl\":50,\"Sevval\":20,\"Zeynep\":40}"
   ]
  },
  {
   "cell_type": "code",
   "execution_count": 6,
   "id": "01210949-21b2-4624-9935-6a80d5abf2d4",
   "metadata": {},
   "outputs": [
    {
     "data": {
      "text/plain": [
       "Atıl      50\n",
       "Sevval    20\n",
       "Zeynep    40\n",
       "dtype: int64"
      ]
     },
     "execution_count": 6,
     "metadata": {},
     "output_type": "execute_result"
    }
   ],
   "source": [
    "pd.Series(benimSozlugum)"
   ]
  },
  {
   "cell_type": "code",
   "execution_count": 8,
   "id": "f9946a91-72fc-4666-87a7-0e776008c649",
   "metadata": {},
   "outputs": [
    {
     "data": {
      "text/plain": [
       "pandas.core.series.Series"
      ]
     },
     "execution_count": 8,
     "metadata": {},
     "output_type": "execute_result"
    }
   ],
   "source": [
    "type(pd.Series(benimSozlugum))"
   ]
  },
  {
   "cell_type": "code",
   "execution_count": 10,
   "id": "bf70ca2b-89c9-476f-92eb-18f5cec50c38",
   "metadata": {},
   "outputs": [],
   "source": [
    "benimYaslarim=[50,20,40]\n",
    "benimIsimlerim=[\"Atıl\",\"Sevval\",\"Zeynep\"]"
   ]
  },
  {
   "cell_type": "code",
   "execution_count": 12,
   "id": "66c529a8-8bc4-4acb-8327-90f6233fe160",
   "metadata": {},
   "outputs": [
    {
     "data": {
      "text/plain": [
       "0    50\n",
       "1    20\n",
       "2    40\n",
       "dtype: int64"
      ]
     },
     "execution_count": 12,
     "metadata": {},
     "output_type": "execute_result"
    }
   ],
   "source": [
    "pd.Series(benimYaslarim)"
   ]
  },
  {
   "cell_type": "code",
   "execution_count": 14,
   "id": "1751d25f-028a-4904-acc4-c8b97f23920b",
   "metadata": {},
   "outputs": [
    {
     "data": {
      "text/plain": [
       "Atıl      50\n",
       "Sevval    20\n",
       "Zeynep    40\n",
       "dtype: int64"
      ]
     },
     "execution_count": 14,
     "metadata": {},
     "output_type": "execute_result"
    }
   ],
   "source": [
    "pd.Series(benimYaslarim,benimIsimlerim)"
   ]
  },
  {
   "cell_type": "code",
   "execution_count": 16,
   "id": "27563676-c784-4e6e-b111-35063ff82ddc",
   "metadata": {},
   "outputs": [
    {
     "data": {
      "text/plain": [
       "Atıl      50\n",
       "Sevval    20\n",
       "Zeynep    40\n",
       "dtype: int64"
      ]
     },
     "execution_count": 16,
     "metadata": {},
     "output_type": "execute_result"
    }
   ],
   "source": [
    "pd.Series(data=benimYaslarim,index=benimIsimlerim)"
   ]
  },
  {
   "cell_type": "code",
   "execution_count": 20,
   "id": "35628849-766e-46cf-a24d-60d49d003fda",
   "metadata": {},
   "outputs": [],
   "source": [
    "numpyDizisi=np.array([50,20,40])"
   ]
  },
  {
   "cell_type": "code",
   "execution_count": 23,
   "id": "d68d1db9-5655-470c-8079-6b6c64ba3591",
   "metadata": {},
   "outputs": [
    {
     "data": {
      "text/plain": [
       "array([50, 20, 40])"
      ]
     },
     "execution_count": 23,
     "metadata": {},
     "output_type": "execute_result"
    }
   ],
   "source": [
    "numpyDizisi"
   ]
  },
  {
   "cell_type": "code",
   "execution_count": 25,
   "id": "525a5edc-3d69-4870-acfd-18e756a98a5b",
   "metadata": {},
   "outputs": [
    {
     "data": {
      "text/plain": [
       "0    50\n",
       "1    20\n",
       "2    40\n",
       "dtype: int32"
      ]
     },
     "execution_count": 25,
     "metadata": {},
     "output_type": "execute_result"
    }
   ],
   "source": [
    "pd.Series(numpyDizisi)"
   ]
  },
  {
   "cell_type": "code",
   "execution_count": 27,
   "id": "1e16ec4a-265a-4f3f-9df6-900a8877bdf5",
   "metadata": {},
   "outputs": [
    {
     "data": {
      "text/plain": [
       "Atıl      50\n",
       "Sevval    20\n",
       "Zeynep    40\n",
       "dtype: int32"
      ]
     },
     "execution_count": 27,
     "metadata": {},
     "output_type": "execute_result"
    }
   ],
   "source": [
    "pd.Series(numpyDizisi,benimIsimlerim)"
   ]
  },
  {
   "cell_type": "code",
   "execution_count": 29,
   "id": "2efd5c70-22c5-4880-84f0-72b50b924dfe",
   "metadata": {},
   "outputs": [
    {
     "data": {
      "text/plain": [
       "1      atil\n",
       "2    sevval\n",
       "3    mehmet\n",
       "dtype: object"
      ]
     },
     "execution_count": 29,
     "metadata": {},
     "output_type": "execute_result"
    }
   ],
   "source": [
    "pd.Series([\"atil\",\"sevval\",\"mehmet\"],[1,2,3])"
   ]
  },
  {
   "cell_type": "code",
   "execution_count": 31,
   "id": "6e7deb64-5a6f-4184-a1bc-aaf718931eb4",
   "metadata": {},
   "outputs": [],
   "source": [
    "yarismaSonucu1=pd.Series([10,5,1],[\"atil\",\"sevval\",\"mehmet\"])"
   ]
  },
  {
   "cell_type": "code",
   "execution_count": 33,
   "id": "757c5783-5616-43be-adbd-403d8a47ceac",
   "metadata": {},
   "outputs": [
    {
     "data": {
      "text/plain": [
       "atil      10\n",
       "sevval     5\n",
       "mehmet     1\n",
       "dtype: int64"
      ]
     },
     "execution_count": 33,
     "metadata": {},
     "output_type": "execute_result"
    }
   ],
   "source": [
    "yarismaSonucu1"
   ]
  },
  {
   "cell_type": "code",
   "execution_count": 35,
   "id": "40744e53-dc23-4115-a897-0dca7d3821d3",
   "metadata": {},
   "outputs": [],
   "source": [
    "yarismaSonucu2=pd.Series([20,10,8],[\"atil\",\"sevval\",\"mehmet\"])"
   ]
  },
  {
   "cell_type": "code",
   "execution_count": 37,
   "id": "f6847fe9-fbf7-4de3-8aca-ed3a32ff7ece",
   "metadata": {},
   "outputs": [
    {
     "data": {
      "text/plain": [
       "atil      20\n",
       "sevval    10\n",
       "mehmet     8\n",
       "dtype: int64"
      ]
     },
     "execution_count": 37,
     "metadata": {},
     "output_type": "execute_result"
    }
   ],
   "source": [
    "yarismaSonucu2"
   ]
  },
  {
   "cell_type": "code",
   "execution_count": 39,
   "id": "8e3994d8-29e4-458e-b3d7-1268c53871a2",
   "metadata": {},
   "outputs": [
    {
     "data": {
      "text/plain": [
       "10"
      ]
     },
     "execution_count": 39,
     "metadata": {},
     "output_type": "execute_result"
    }
   ],
   "source": [
    "yarismaSonucu2[\"sevval\"]"
   ]
  },
  {
   "cell_type": "code",
   "execution_count": 41,
   "id": "3d730596-a8ae-49eb-92d2-91b758afce6f",
   "metadata": {},
   "outputs": [],
   "source": [
    "sonSonuc=yarismaSonucu1+yarismaSonucu2"
   ]
  },
  {
   "cell_type": "code",
   "execution_count": 43,
   "id": "814cd8b4-c6a5-4862-8000-b993ad579ed9",
   "metadata": {},
   "outputs": [
    {
     "data": {
      "text/plain": [
       "atil      30\n",
       "sevval    15\n",
       "mehmet     9\n",
       "dtype: int64"
      ]
     },
     "execution_count": 43,
     "metadata": {},
     "output_type": "execute_result"
    }
   ],
   "source": [
    "sonSonuc"
   ]
  },
  {
   "cell_type": "code",
   "execution_count": 45,
   "id": "c34b1bb8-9315-4ae9-a7a1-55a882f4f1e8",
   "metadata": {},
   "outputs": [],
   "source": [
    "farkliSeries=pd.Series([20,30,40,50],[\"a\",\"b\",\"c\",\"d\"])"
   ]
  },
  {
   "cell_type": "code",
   "execution_count": 47,
   "id": "1b1585f9-be2f-4afb-a185-7f54749283c9",
   "metadata": {},
   "outputs": [],
   "source": [
    "farkliSeries2=pd.Series([10,5,3,1],[\"a\",\"c\",\"f\",\"g\"])"
   ]
  },
  {
   "cell_type": "code",
   "execution_count": 49,
   "id": "8b24575c-a6dc-4380-bb00-e92be93eac92",
   "metadata": {},
   "outputs": [
    {
     "data": {
      "text/plain": [
       "a    20\n",
       "b    30\n",
       "c    40\n",
       "d    50\n",
       "dtype: int64"
      ]
     },
     "execution_count": 49,
     "metadata": {},
     "output_type": "execute_result"
    }
   ],
   "source": [
    "farkliSeries"
   ]
  },
  {
   "cell_type": "code",
   "execution_count": 51,
   "id": "434e2ae1-725a-49d8-90f1-f406ff6db10a",
   "metadata": {},
   "outputs": [
    {
     "data": {
      "text/plain": [
       "a    10\n",
       "c     5\n",
       "f     3\n",
       "g     1\n",
       "dtype: int64"
      ]
     },
     "execution_count": 51,
     "metadata": {},
     "output_type": "execute_result"
    }
   ],
   "source": [
    "farkliSeries2"
   ]
  },
  {
   "cell_type": "code",
   "execution_count": 55,
   "id": "938d5348-e883-4872-9163-b4486cc89f8f",
   "metadata": {},
   "outputs": [
    {
     "data": {
      "text/plain": [
       "a    30.0\n",
       "b     NaN\n",
       "c    45.0\n",
       "d     NaN\n",
       "f     NaN\n",
       "g     NaN\n",
       "dtype: float64"
      ]
     },
     "execution_count": 55,
     "metadata": {},
     "output_type": "execute_result"
    }
   ],
   "source": [
    "farkliSeries+farkliSeries2\n",
    "#kesişilen yerler toplanır"
   ]
  },
  {
   "cell_type": "code",
   "execution_count": null,
   "id": "73f39485-1264-4199-8a74-7ce1fae35105",
   "metadata": {},
   "outputs": [],
   "source": []
  }
 ],
 "metadata": {
  "kernelspec": {
   "display_name": "Python 3 (ipykernel)",
   "language": "python",
   "name": "python3"
  },
  "language_info": {
   "codemirror_mode": {
    "name": "ipython",
    "version": 3
   },
   "file_extension": ".py",
   "mimetype": "text/x-python",
   "name": "python",
   "nbconvert_exporter": "python",
   "pygments_lexer": "ipython3",
   "version": "3.12.7"
  }
 },
 "nbformat": 4,
 "nbformat_minor": 5
}
