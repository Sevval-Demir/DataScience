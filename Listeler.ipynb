{
 "cells": [
  {
   "cell_type": "markdown",
   "id": "90716b3e-4ec8-4c31-9064-cd929bf561db",
   "metadata": {},
   "source": [
    "## Liste"
   ]
  },
  {
   "cell_type": "code",
   "execution_count": 2,
   "id": "ae68cac5-3eef-45a7-873e-7f0ab19168fc",
   "metadata": {},
   "outputs": [],
   "source": [
    "benimString=\"Şevval Demir\""
   ]
  },
  {
   "cell_type": "code",
   "execution_count": 4,
   "id": "8d2aebe0-cab4-4c20-aed3-935b629e3188",
   "metadata": {},
   "outputs": [
    {
     "data": {
      "text/plain": [
       "'Ş'"
      ]
     },
     "execution_count": 4,
     "metadata": {},
     "output_type": "execute_result"
    }
   ],
   "source": [
    "benimString[0]"
   ]
  },
  {
   "cell_type": "code",
   "execution_count": 6,
   "id": "3172ac72-d1d1-4f1e-a048-9e771be1e736",
   "metadata": {},
   "outputs": [],
   "source": [
    "# immutability & mutable"
   ]
  },
  {
   "cell_type": "code",
   "execution_count": 8,
   "id": "56ce8fcb-a3ca-4c7e-a221-53f727457fad",
   "metadata": {},
   "outputs": [],
   "source": [
    "liste=[10,20,30,40]"
   ]
  },
  {
   "cell_type": "code",
   "execution_count": 10,
   "id": "03eaeec0-f030-408f-92f4-5f2815990850",
   "metadata": {},
   "outputs": [
    {
     "data": {
      "text/plain": [
       "list"
      ]
     },
     "execution_count": 10,
     "metadata": {},
     "output_type": "execute_result"
    }
   ],
   "source": [
    "type(liste)"
   ]
  },
  {
   "cell_type": "code",
   "execution_count": 14,
   "id": "86dd261b-6dca-41be-ab76-08805955fde6",
   "metadata": {},
   "outputs": [],
   "source": [
    "myNumber=10\n",
    "herNumber=20"
   ]
  },
  {
   "cell_type": "code",
   "execution_count": 16,
   "id": "e44af1f9-d8af-48a9-9b2a-a77258a8f281",
   "metadata": {},
   "outputs": [],
   "source": [
    "myNumberList=[myNumber,herNumber]"
   ]
  },
  {
   "cell_type": "code",
   "execution_count": 18,
   "id": "33881448-eaa1-4a30-a5d0-7791171e09c7",
   "metadata": {},
   "outputs": [
    {
     "data": {
      "text/plain": [
       "10"
      ]
     },
     "execution_count": 18,
     "metadata": {},
     "output_type": "execute_result"
    }
   ],
   "source": [
    "liste[0]"
   ]
  },
  {
   "cell_type": "code",
   "execution_count": 20,
   "id": "66cf6dff-5608-4f18-a3fc-6c39598a71ca",
   "metadata": {},
   "outputs": [
    {
     "data": {
      "text/plain": [
       "10"
      ]
     },
     "execution_count": 20,
     "metadata": {},
     "output_type": "execute_result"
    }
   ],
   "source": [
    "myNumberList[0]"
   ]
  },
  {
   "cell_type": "code",
   "execution_count": 22,
   "id": "bfab47dd-3d19-44c8-9eab-ed9a1d8972c8",
   "metadata": {},
   "outputs": [
    {
     "data": {
      "text/plain": [
       "[10, 20, 30, 40]"
      ]
     },
     "execution_count": 22,
     "metadata": {},
     "output_type": "execute_result"
    }
   ],
   "source": [
    "liste"
   ]
  },
  {
   "cell_type": "code",
   "execution_count": 26,
   "id": "ca3e07ea-c495-4184-825d-bb41158b2a32",
   "metadata": {},
   "outputs": [
    {
     "data": {
      "text/plain": [
       "100"
      ]
     },
     "execution_count": 26,
     "metadata": {},
     "output_type": "execute_result"
    }
   ],
   "source": [
    "liste[0]=100\n",
    "liste[0]"
   ]
  },
  {
   "cell_type": "code",
   "execution_count": 28,
   "id": "9a230ad2-ea26-46b9-8a3b-07d8845fb669",
   "metadata": {},
   "outputs": [
    {
     "data": {
      "text/plain": [
       "[100, 20, 30, 40]"
      ]
     },
     "execution_count": 28,
     "metadata": {},
     "output_type": "execute_result"
    }
   ],
   "source": [
    "liste"
   ]
  },
  {
   "cell_type": "code",
   "execution_count": 30,
   "id": "5707f34c-6c67-4ad1-986d-5fb833449716",
   "metadata": {},
   "outputs": [
    {
     "data": {
      "text/plain": [
       "[100, 20, 30, 40, 50]"
      ]
     },
     "execution_count": 30,
     "metadata": {},
     "output_type": "execute_result"
    }
   ],
   "source": [
    "liste.append(50)\n",
    "liste"
   ]
  },
  {
   "cell_type": "code",
   "execution_count": null,
   "id": "b427faca-c4f5-4889-b1ae-9bf3101c636c",
   "metadata": {},
   "outputs": [],
   "source": []
  }
 ],
 "metadata": {
  "kernelspec": {
   "display_name": "Python 3 (ipykernel)",
   "language": "python",
   "name": "python3"
  },
  "language_info": {
   "codemirror_mode": {
    "name": "ipython",
    "version": 3
   },
   "file_extension": ".py",
   "mimetype": "text/x-python",
   "name": "python",
   "nbconvert_exporter": "python",
   "pygments_lexer": "ipython3",
   "version": "3.12.7"
  }
 },
 "nbformat": 4,
 "nbformat_minor": 5
}
