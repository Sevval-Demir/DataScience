{
 "cells": [
  {
   "cell_type": "markdown",
   "id": "90716b3e-4ec8-4c31-9064-cd929bf561db",
   "metadata": {},
   "source": [
    "## Liste"
   ]
  },
  {
   "cell_type": "code",
   "execution_count": 3,
   "id": "ae68cac5-3eef-45a7-873e-7f0ab19168fc",
   "metadata": {},
   "outputs": [],
   "source": [
    "benimString=\"Şevval Demir\""
   ]
  },
  {
   "cell_type": "code",
   "execution_count": 5,
   "id": "8d2aebe0-cab4-4c20-aed3-935b629e3188",
   "metadata": {},
   "outputs": [
    {
     "data": {
      "text/plain": [
       "'Ş'"
      ]
     },
     "execution_count": 5,
     "metadata": {},
     "output_type": "execute_result"
    }
   ],
   "source": [
    "benimString[0]"
   ]
  },
  {
   "cell_type": "code",
   "execution_count": 7,
   "id": "3172ac72-d1d1-4f1e-a048-9e771be1e736",
   "metadata": {},
   "outputs": [],
   "source": [
    "# immutability & mutable"
   ]
  },
  {
   "cell_type": "code",
   "execution_count": 9,
   "id": "56ce8fcb-a3ca-4c7e-a221-53f727457fad",
   "metadata": {},
   "outputs": [],
   "source": [
    "liste=[10,20,30,40]"
   ]
  },
  {
   "cell_type": "code",
   "execution_count": 11,
   "id": "03eaeec0-f030-408f-92f4-5f2815990850",
   "metadata": {},
   "outputs": [
    {
     "data": {
      "text/plain": [
       "list"
      ]
     },
     "execution_count": 11,
     "metadata": {},
     "output_type": "execute_result"
    }
   ],
   "source": [
    "type(liste)"
   ]
  },
  {
   "cell_type": "code",
   "execution_count": 13,
   "id": "86dd261b-6dca-41be-ab76-08805955fde6",
   "metadata": {},
   "outputs": [],
   "source": [
    "myNumber=10\n",
    "herNumber=20"
   ]
  },
  {
   "cell_type": "code",
   "execution_count": 15,
   "id": "e44af1f9-d8af-48a9-9b2a-a77258a8f281",
   "metadata": {},
   "outputs": [],
   "source": [
    "myNumberList=[myNumber,herNumber]"
   ]
  },
  {
   "cell_type": "code",
   "execution_count": 17,
   "id": "33881448-eaa1-4a30-a5d0-7791171e09c7",
   "metadata": {},
   "outputs": [
    {
     "data": {
      "text/plain": [
       "10"
      ]
     },
     "execution_count": 17,
     "metadata": {},
     "output_type": "execute_result"
    }
   ],
   "source": [
    "liste[0]"
   ]
  },
  {
   "cell_type": "code",
   "execution_count": 19,
   "id": "66cf6dff-5608-4f18-a3fc-6c39598a71ca",
   "metadata": {},
   "outputs": [
    {
     "data": {
      "text/plain": [
       "10"
      ]
     },
     "execution_count": 19,
     "metadata": {},
     "output_type": "execute_result"
    }
   ],
   "source": [
    "myNumberList[0]"
   ]
  },
  {
   "cell_type": "code",
   "execution_count": 21,
   "id": "bfab47dd-3d19-44c8-9eab-ed9a1d8972c8",
   "metadata": {},
   "outputs": [
    {
     "data": {
      "text/plain": [
       "[10, 20, 30, 40]"
      ]
     },
     "execution_count": 21,
     "metadata": {},
     "output_type": "execute_result"
    }
   ],
   "source": [
    "liste"
   ]
  },
  {
   "cell_type": "code",
   "execution_count": 23,
   "id": "ca3e07ea-c495-4184-825d-bb41158b2a32",
   "metadata": {},
   "outputs": [
    {
     "data": {
      "text/plain": [
       "100"
      ]
     },
     "execution_count": 23,
     "metadata": {},
     "output_type": "execute_result"
    }
   ],
   "source": [
    "liste[0]=100\n",
    "liste[0]"
   ]
  },
  {
   "cell_type": "code",
   "execution_count": 25,
   "id": "9a230ad2-ea26-46b9-8a3b-07d8845fb669",
   "metadata": {},
   "outputs": [
    {
     "data": {
      "text/plain": [
       "[100, 20, 30, 40]"
      ]
     },
     "execution_count": 25,
     "metadata": {},
     "output_type": "execute_result"
    }
   ],
   "source": [
    "liste"
   ]
  },
  {
   "cell_type": "code",
   "execution_count": 27,
   "id": "5707f34c-6c67-4ad1-986d-5fb833449716",
   "metadata": {},
   "outputs": [
    {
     "data": {
      "text/plain": [
       "[100, 20, 30, 40, 50]"
      ]
     },
     "execution_count": 27,
     "metadata": {},
     "output_type": "execute_result"
    }
   ],
   "source": [
    "liste.append(50)\n",
    "liste"
   ]
  },
  {
   "cell_type": "code",
   "execution_count": 31,
   "id": "b427faca-c4f5-4889-b1ae-9bf3101c636c",
   "metadata": {},
   "outputs": [
    {
     "data": {
      "text/plain": [
       "20"
      ]
     },
     "execution_count": 31,
     "metadata": {},
     "output_type": "execute_result"
    }
   ],
   "source": [
    "myNumberList.pop()"
   ]
  },
  {
   "cell_type": "code",
   "execution_count": 33,
   "id": "d3c581a7-7357-4e1d-8951-6135d535f6b1",
   "metadata": {},
   "outputs": [
    {
     "data": {
      "text/plain": [
       "[10]"
      ]
     },
     "execution_count": 33,
     "metadata": {},
     "output_type": "execute_result"
    }
   ],
   "source": [
    "myNumberList"
   ]
  },
  {
   "cell_type": "code",
   "execution_count": 35,
   "id": "2351d899-3a99-4ebd-9e1e-463ca9a2762d",
   "metadata": {},
   "outputs": [
    {
     "data": {
      "text/plain": [
       "50"
      ]
     },
     "execution_count": 35,
     "metadata": {},
     "output_type": "execute_result"
    }
   ],
   "source": [
    "liste.pop()"
   ]
  },
  {
   "cell_type": "code",
   "execution_count": 37,
   "id": "d8e80e88-1cc9-4ec1-9aaa-d383be978e55",
   "metadata": {},
   "outputs": [
    {
     "data": {
      "text/plain": [
       "[100, 20, 30, 40]"
      ]
     },
     "execution_count": 37,
     "metadata": {},
     "output_type": "execute_result"
    }
   ],
   "source": [
    "liste"
   ]
  },
  {
   "cell_type": "code",
   "execution_count": 39,
   "id": "8ff70e9b-c22e-45d5-a2f3-23f5a278b749",
   "metadata": {},
   "outputs": [],
   "source": [
    "liste.remove(40)"
   ]
  },
  {
   "cell_type": "code",
   "execution_count": 41,
   "id": "120bf187-7c32-4bf1-9aeb-df9338b4c75e",
   "metadata": {},
   "outputs": [
    {
     "data": {
      "text/plain": [
       "[100, 20, 30]"
      ]
     },
     "execution_count": 41,
     "metadata": {},
     "output_type": "execute_result"
    }
   ],
   "source": [
    "liste"
   ]
  },
  {
   "cell_type": "code",
   "execution_count": 43,
   "id": "40e5a977-88b4-420a-b88f-7d87440e3f19",
   "metadata": {},
   "outputs": [
    {
     "ename": "TypeError",
     "evalue": "list.count() takes exactly one argument (0 given)",
     "output_type": "error",
     "traceback": [
      "\u001b[1;31m---------------------------------------------------------------------------\u001b[0m",
      "\u001b[1;31mTypeError\u001b[0m                                 Traceback (most recent call last)",
      "Cell \u001b[1;32mIn[43], line 1\u001b[0m\n\u001b[1;32m----> 1\u001b[0m liste\u001b[38;5;241m.\u001b[39mcount()\n",
      "\u001b[1;31mTypeError\u001b[0m: list.count() takes exactly one argument (0 given)"
     ]
    }
   ],
   "source": [
    "liste.count()"
   ]
  },
  {
   "cell_type": "code",
   "execution_count": 45,
   "id": "2724a36b-f932-4992-85ee-158173696ece",
   "metadata": {},
   "outputs": [
    {
     "data": {
      "text/plain": [
       "1"
      ]
     },
     "execution_count": 45,
     "metadata": {},
     "output_type": "execute_result"
    }
   ],
   "source": [
    "liste.count(100)"
   ]
  },
  {
   "cell_type": "code",
   "execution_count": 47,
   "id": "ff3c29a1-77c7-429f-938e-cdc56c9621df",
   "metadata": {},
   "outputs": [],
   "source": [
    "liste.append(100)"
   ]
  },
  {
   "cell_type": "code",
   "execution_count": 49,
   "id": "e8956df7-cd49-4797-a584-21e89268176c",
   "metadata": {},
   "outputs": [
    {
     "data": {
      "text/plain": [
       "2"
      ]
     },
     "execution_count": 49,
     "metadata": {},
     "output_type": "execute_result"
    }
   ],
   "source": [
    "liste.count(100)"
   ]
  },
  {
   "cell_type": "code",
   "execution_count": 51,
   "id": "dbd12b1c-2699-4c30-848a-1a81fef97fdb",
   "metadata": {},
   "outputs": [],
   "source": [
    "myStringList=[\"şevval\",\"demir\",\"Şevval\"]"
   ]
  },
  {
   "cell_type": "code",
   "execution_count": 53,
   "id": "0c7151cc-ff05-4bef-964f-4f6e4ac8c850",
   "metadata": {},
   "outputs": [],
   "source": [
    "myOtherList=[\"ali\",\"veli\",\"4950\"]"
   ]
  },
  {
   "cell_type": "code",
   "execution_count": 55,
   "id": "39947d1a-23b1-4cb6-a8de-db4108a23b9a",
   "metadata": {},
   "outputs": [],
   "source": [
    "mySumList=myStringList+myOtherList"
   ]
  },
  {
   "cell_type": "code",
   "execution_count": 57,
   "id": "29f6ba62-0959-4f2e-b171-2aac0a2b4a6a",
   "metadata": {},
   "outputs": [
    {
     "data": {
      "text/plain": [
       "['şevval', 'demir', 'Şevval', 'ali', 'veli', '4950']"
      ]
     },
     "execution_count": 57,
     "metadata": {},
     "output_type": "execute_result"
    }
   ],
   "source": [
    "mySumList"
   ]
  },
  {
   "cell_type": "code",
   "execution_count": 59,
   "id": "087ce9ba-26fe-4ad0-ac51-6b72847bc397",
   "metadata": {},
   "outputs": [
    {
     "data": {
      "text/plain": [
       "['şevval',\n",
       " 'demir',\n",
       " 'Şevval',\n",
       " 'ali',\n",
       " 'veli',\n",
       " '4950',\n",
       " 'şevval',\n",
       " 'demir',\n",
       " 'Şevval',\n",
       " 'ali',\n",
       " 'veli',\n",
       " '4950',\n",
       " 'şevval',\n",
       " 'demir',\n",
       " 'Şevval',\n",
       " 'ali',\n",
       " 'veli',\n",
       " '4950',\n",
       " 'şevval',\n",
       " 'demir',\n",
       " 'Şevval',\n",
       " 'ali',\n",
       " 'veli',\n",
       " '4950',\n",
       " 'şevval',\n",
       " 'demir',\n",
       " 'Şevval',\n",
       " 'ali',\n",
       " 'veli',\n",
       " '4950']"
      ]
     },
     "execution_count": 59,
     "metadata": {},
     "output_type": "execute_result"
    }
   ],
   "source": [
    "mySumList*5"
   ]
  },
  {
   "cell_type": "code",
   "execution_count": 61,
   "id": "09d329de-55a1-44a3-b78d-754377271399",
   "metadata": {},
   "outputs": [],
   "source": [
    "mySumList.reverse()"
   ]
  },
  {
   "cell_type": "code",
   "execution_count": 63,
   "id": "9f5f0ffb-343b-4100-b5be-545abb846222",
   "metadata": {},
   "outputs": [
    {
     "data": {
      "text/plain": [
       "['4950', 'veli', 'ali', 'Şevval', 'demir', 'şevval']"
      ]
     },
     "execution_count": 63,
     "metadata": {},
     "output_type": "execute_result"
    }
   ],
   "source": [
    "mySumList"
   ]
  },
  {
   "cell_type": "code",
   "execution_count": null,
   "id": "dcf4822a-28ad-4085-88b2-66d499d4970f",
   "metadata": {},
   "outputs": [],
   "source": []
  }
 ],
 "metadata": {
  "kernelspec": {
   "display_name": "Python 3 (ipykernel)",
   "language": "python",
   "name": "python3"
  },
  "language_info": {
   "codemirror_mode": {
    "name": "ipython",
    "version": 3
   },
   "file_extension": ".py",
   "mimetype": "text/x-python",
   "name": "python",
   "nbconvert_exporter": "python",
   "pygments_lexer": "ipython3",
   "version": "3.12.7"
  }
 },
 "nbformat": 4,
 "nbformat_minor": 5
}
